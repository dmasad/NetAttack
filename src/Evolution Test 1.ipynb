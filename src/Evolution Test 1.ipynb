{
 "metadata": {
  "name": "Evolution Test 1"
 },
 "nbformat": 3,
 "nbformat_minor": 0,
 "worksheets": [
  {
   "cells": [
    {
     "cell_type": "markdown",
     "metadata": {},
     "source": [
      "# Testing the Evolution Manager\n",
      "\n",
      "What we do instead of unit testing"
     ]
    },
    {
     "cell_type": "code",
     "collapsed": false,
     "input": [
      "import networkx as nx\n",
      "import matplotlib.pyplot as plt\n",
      "\n",
      "import numpy as np\n",
      "from scipy.interpolate import interp1d\n",
      "\n",
      "from DefenderAgent import Defender\n",
      "from AttackerAgent import AttackerAgent\n",
      "\n",
      "from EvolutionManager import EvolutionManager"
     ],
     "language": "python",
     "metadata": {},
     "outputs": [],
     "prompt_number": 1
    },
    {
     "cell_type": "code",
     "collapsed": false,
     "input": [
      "\n",
      "def effective_diameter(graph, q=0.9):\n",
      "    '''\n",
      "    Compute the effective diameter for the target percentile q\n",
      "    Better than diameter for dealing with long tails and disconnected graphs.\n",
      "\n",
      "    via Leskovec et al.\n",
      "    '''\n",
      "\n",
      "    # Build a distance matrix:\n",
      "    nodes = graph.nodes()\n",
      "    dist = nx.shortest_path_length(graph)\n",
      "    distances = []\n",
      "    for node1 in nodes:\n",
      "        row = []\n",
      "        for node2 in nodes:\n",
      "            if node1 == node2:\n",
      "                row.append(np.inf)\n",
      "            elif node2 in dist[node1]:\n",
      "                row.append(dist[node1][node2])\n",
      "            else:\n",
      "                row.append(np.inf)\n",
      "        distances.append(row)\n",
      "\n",
      "    distances = np.array(distances)\n",
      "\n",
      "    g_d = [0] # g(d) in Leskovec et al.\n",
      "    d = 1\n",
      "\n",
      "    distances = distances[distances != np.inf]\n",
      "    total_dyads = distances.size\n",
      "\n",
      "    while g_d[-1] < q:\n",
      "        path_counts = len(distances[distances<=d])\n",
      "        path_frac = path_counts/total_dyads\n",
      "        g_d.append(path_frac)\n",
      "        d += 1\n",
      "\n",
      "\n",
      "    # Interpolate\n",
      "    d_range = range(d)\n",
      "    interpolation = interp1d(g_d, d_range, kind='linear')\n",
      "    eff_d = interpolation(q)\n",
      "    return float(eff_d)/len(nodes)\n"
     ],
     "language": "python",
     "metadata": {},
     "outputs": [],
     "prompt_number": 2
    },
    {
     "cell_type": "code",
     "collapsed": false,
     "input": [
      "evolution_manager = EvolutionManager(AttackerAgent, Defender, 20, 45, \n",
      "                      fitness=effective_diameter, pop_size=10, generation_count=3, \n",
      "                      offspring=2, mutation_rate=0.05)\n",
      "                                     "
     ],
     "language": "python",
     "metadata": {},
     "outputs": [],
     "prompt_number": 3
    },
    {
     "cell_type": "code",
     "collapsed": false,
     "input": [
      "evolution_manager.run_generation()"
     ],
     "language": "python",
     "metadata": {},
     "outputs": [],
     "prompt_number": 4
    },
    {
     "cell_type": "code",
     "collapsed": false,
     "input": [
      "evolution_manager.current_fitness"
     ],
     "language": "python",
     "metadata": {},
     "outputs": [
      {
       "output_type": "pyout",
       "prompt_number": 5,
       "text": [
        "{'attackers': {(7.894486395742007,\n",
        "   0.6605223311236808,\n",
        "   46.917083024359826,\n",
        "   42.38095000404655,\n",
        "   91.54723920437546,\n",
        "   70.92590148959786,\n",
        "   83.70243230659293): 0.6301260822510824,\n",
        "  (16.785563301514394,\n",
        "   40.93229800363608,\n",
        "   69.87302387313524,\n",
        "   17.376039258475686,\n",
        "   93.25220430468897,\n",
        "   87.11302727125043,\n",
        "   21.413990415314732): 0.8325851509601511,\n",
        "  (20.956830465958053,\n",
        "   53.81704969522433,\n",
        "   49.76034307799399,\n",
        "   25.006549720223603,\n",
        "   3.49935460798374,\n",
        "   74.96706757623228,\n",
        "   0.34623260955459756): 0.51275,\n",
        "  (24.05878526652302,\n",
        "   34.16092887430906,\n",
        "   76.0665467506504,\n",
        "   55.83091104086265,\n",
        "   2.377439735347142,\n",
        "   44.92703642975351,\n",
        "   15.240811450801228): 0.7223272144522146,\n",
        "  (39.91714809414724,\n",
        "   0.9822813483958304,\n",
        "   71.28629375771999,\n",
        "   32.207075872954896,\n",
        "   53.9449842059478,\n",
        "   75.91241530763614,\n",
        "   5.924126324205437): 0.6828461399711401,\n",
        "  (46.27646183638896,\n",
        "   15.547999552863722,\n",
        "   71.95002705540841,\n",
        "   97.55367779076714,\n",
        "   84.35940267766554,\n",
        "   76.39981429291228,\n",
        "   95.10265269940231): 0.4828988095238095,\n",
        "  (58.00023545513318,\n",
        "   52.33810401390956,\n",
        "   4.488764494789333,\n",
        "   15.06249036226317,\n",
        "   22.358805201353192,\n",
        "   46.42690155844864,\n",
        "   93.00473239319862): 0.5722738095238096,\n",
        "  (70.18734494393527,\n",
        "   44.85041319823681,\n",
        "   31.391068344458517,\n",
        "   71.12294402150307,\n",
        "   41.112610105055424,\n",
        "   72.03246394233639,\n",
        "   9.878875547731614): 0.7072496531246533,\n",
        "  (82.2728551102596,\n",
        "   22.384134691717872,\n",
        "   74.52102504742776,\n",
        "   16.999522316015735,\n",
        "   27.777272501351568,\n",
        "   15.677977273788146,\n",
        "   29.21587229623598): 0.6026309523809524,\n",
        "  (95.96657837099298,\n",
        "   69.67944555163228,\n",
        "   0.24259431498216966,\n",
        "   31.2978549476179,\n",
        "   44.24735497678769,\n",
        "   2.0392495552386314,\n",
        "   92.92035019455696): 0.7002848124098124},\n",
        " 'defenders': {(1.3601222775689537,\n",
        "   17.350257262331947,\n",
        "   18.04796612244609,\n",
        "   7.033381893015955,\n",
        "   99.75892763814322,\n",
        "   66.25785577678403,\n",
        "   70.93663031157521,\n",
        "   71.07902693961965,\n",
        "   48.46637019837765,\n",
        "   64.32130410335093): 0.29971518759018756,\n",
        "  (16.31774028370263,\n",
        "   37.30464658819099,\n",
        "   15.261192753640163,\n",
        "   45.37169420758812,\n",
        "   85.68994656701628,\n",
        "   72.84098132835267,\n",
        "   67.55759275599344,\n",
        "   66.16109302892664,\n",
        "   51.08293825607733,\n",
        "   33.98977800284284): 0.29275034687534673,\n",
        "  (18.114533512814845,\n",
        "   29.442126512329757,\n",
        "   46.58431762336666,\n",
        "   9.877951888570191,\n",
        "   37.7742904638451,\n",
        "   84.0771034158435,\n",
        "   29.04234220747587,\n",
        "   94.25789698305451,\n",
        "   43.87957902109135,\n",
        "   52.23265027352715): 0.2776727855477854,\n",
        "  (49.31357516229183,\n",
        "   39.54326819273061,\n",
        "   92.70408219001541,\n",
        "   63.3032345624144,\n",
        "   63.53827516094827,\n",
        "   58.41667880791492,\n",
        "   13.79138089111227,\n",
        "   43.30557928623961,\n",
        "   81.04140541638478,\n",
        "   36.17683586271683): 0.36987391774891765,\n",
        "  (61.710189744442786,\n",
        "   40.848386482056796,\n",
        "   90.3181564427111,\n",
        "   60.09700323303142,\n",
        "   25.304924980484188,\n",
        "   45.0718299451206,\n",
        "   20.384969886803116,\n",
        "   82.62972577125842,\n",
        "   92.4196049698733,\n",
        "   27.20629942327716): 0.5171011904761905,\n",
        "  (62.498124094648276,\n",
        "   57.56804943236673,\n",
        "   96.57920091700028,\n",
        "   29.568032642073184,\n",
        "   33.86581745411035,\n",
        "   77.85421027276766,\n",
        "   84.5251080227002,\n",
        "   61.78493684025368,\n",
        "   85.29674708079844,\n",
        "   31.790316127537576): 0.16741484903984893,\n",
        "  (63.77960972322728,\n",
        "   7.845028989114244,\n",
        "   88.31619367629861,\n",
        "   78.5209681194484,\n",
        "   56.09150777017925,\n",
        "   47.61723121793119,\n",
        "   40.952650956975745,\n",
        "   82.26573563466647,\n",
        "   16.94940764545757,\n",
        "   52.87248442712652): 0.39736904761904757,\n",
        "  (73.64583168404081,\n",
        "   43.63270933650575,\n",
        "   79.60676938096536,\n",
        "   20.330079426961124,\n",
        "   42.84116971144124,\n",
        "   80.04897620276834,\n",
        "   26.343996095002332,\n",
        "   38.85318632311311,\n",
        "   40.646056327228855,\n",
        "   86.75003120122359): 0.4277261904761904,\n",
        "  (82.18623937803355,\n",
        "   10.527189344712296,\n",
        "   51.68927405692087,\n",
        "   97.63757742407175,\n",
        "   47.90615454315624,\n",
        "   26.8366386313429,\n",
        "   64.28329272628211,\n",
        "   88.57680443864606,\n",
        "   74.9488053961378,\n",
        "   49.91183186796554): 0.3171538600288599,\n",
        "  (93.54028488736513,\n",
        "   48.564999461253166,\n",
        "   3.968521203827491,\n",
        "   55.298165451068236,\n",
        "   16.43467381392105,\n",
        "   21.18692748434068,\n",
        "   93.87340508204667,\n",
        "   12.585648159195607,\n",
        "   18.829609501795453,\n",
        "   47.074086609269514): 0.48724999999999996}}"
       ]
      }
     ],
     "prompt_number": 5
    },
    {
     "cell_type": "code",
     "collapsed": false,
     "input": [
      "# Max fitnesses\n",
      "print \"Attacker:\", max(evolution_manager.current_fitness['attackers'].values())\n",
      "print \"Defender:\", max(evolution_manager.current_fitness['defenders'].values())"
     ],
     "language": "python",
     "metadata": {},
     "outputs": [
      {
       "output_type": "stream",
       "stream": "stdout",
       "text": [
        "Attacker: 0.83258515096\n",
        "Defender: 0.517101190476\n"
       ]
      }
     ],
     "prompt_number": 6
    },
    {
     "cell_type": "code",
     "collapsed": false,
     "input": [
      "evolution_manager.breed_next_generation()"
     ],
     "language": "python",
     "metadata": {},
     "outputs": [],
     "prompt_number": 7
    },
    {
     "cell_type": "code",
     "collapsed": false,
     "input": [
      "for i in range(10):\n",
      "    print \"Running generation\", evolution_manager.current_generation, \"...\"\n",
      "    evolution_manager.run_generation()\n",
      "    # Max fitnesses\n",
      "    print \"Attacker:\", max(evolution_manager.current_fitness['attackers'].values())\n",
      "    print \"Defender:\", max(evolution_manager.current_fitness['defenders'].values())\n",
      "    print \"Breeding...\"\n",
      "    evolution_manager.breed_next_generation()\n",
      "\n",
      "print \"Done!\""
     ],
     "language": "python",
     "metadata": {},
     "outputs": [
      {
       "output_type": "stream",
       "stream": "stdout",
       "text": [
        "Running generation 1 ...\n",
        "Attacker:"
       ]
      },
      {
       "output_type": "stream",
       "stream": "stdout",
       "text": [
        " 0.823326402764\n",
        "Defender: 0.484958333333\n",
        "Breeding...\n",
        "Running generation 2 ...\n",
        "Attacker:"
       ]
      },
      {
       "output_type": "stream",
       "stream": "stdout",
       "text": [
        " 0.803780844156\n",
        "Defender: 0.462875\n",
        "Breeding...\n",
        "Running generation 3 ...\n",
        "Attacker:"
       ]
      },
      {
       "output_type": "stream",
       "stream": "stdout",
       "text": [
        " 0.730384018759\n",
        "Defender: 0.426535714286\n",
        "Breeding...\n",
        "Running generation 4 ...\n",
        "Attacker:"
       ]
      },
      {
       "output_type": "stream",
       "stream": "stdout",
       "text": [
        " 0.841018939394\n",
        "Defender: 0.52225\n",
        "Breeding...\n",
        "Running generation 5 ...\n",
        "Attacker:"
       ]
      },
      {
       "output_type": "stream",
       "stream": "stdout",
       "text": [
        " 0.753935606061\n",
        "Defender: 0.480583333333\n",
        "Breeding...\n",
        "Running generation 6 ...\n",
        "Attacker:"
       ]
      },
      {
       "output_type": "stream",
       "stream": "stdout",
       "text": [
        " 0.815168817294\n",
        "Defender: 0.469392857143\n",
        "Breeding...\n",
        "Running generation 7 ...\n",
        "Attacker:"
       ]
      },
      {
       "output_type": "stream",
       "stream": "stdout",
       "text": [
        " 0.825037608225\n",
        "Defender: 0.373351190476\n",
        "Breeding...\n",
        "Running generation 8 ...\n",
        "Attacker:"
       ]
      },
      {
       "output_type": "stream",
       "stream": "stdout",
       "text": [
        " 0.715145923521\n",
        "Defender: 0.46105952381\n",
        "Breeding...\n",
        "Running generation 9 ...\n",
        "Attacker:"
       ]
      },
      {
       "output_type": "stream",
       "stream": "stdout",
       "text": [
        " 0.767274815462\n",
        "Defender: 0.48725\n",
        "Breeding...\n",
        "Running generation 10 ...\n",
        "Attacker:"
       ]
      },
      {
       "output_type": "stream",
       "stream": "stdout",
       "text": [
        " 0.777575487013\n",
        "Defender: 0.443351190476\n",
        "Breeding...\n",
        "Done!\n"
       ]
      }
     ],
     "prompt_number": 8
    },
    {
     "cell_type": "code",
     "collapsed": false,
     "input": [
      "# Displaying genes:\n",
      "print \"Attackers - Genome 0\"\n",
      "print \"--------------------\"\n",
      "for generation in evolution_manager.generations:\n",
      "    genome = evolution_manager.generations[generation]['attackers'][0]\n",
      "    pretty_genome = [\"%.2f\" % g for g in genome]\n",
      "    print pretty_genome\n",
      "\n",
      "\n",
      "print \"Defenders - Genome 0\"\n",
      "print \"--------------------\"\n",
      "for generation in evolution_manager.generations:\n",
      "    genome = evolution_manager.generations[generation]['defenders'][0]\n",
      "    pretty_genome = [\"%.2f\" % g for g in genome]\n",
      "    print pretty_genome"
     ],
     "language": "python",
     "metadata": {},
     "outputs": [
      {
       "output_type": "stream",
       "stream": "stdout",
       "text": [
        "Attackers - Genome 0\n",
        "--------------------\n",
        "['16.79', '40.93', '69.87', '17.38', '93.25', '87.11', '21.41']\n",
        "['82.27', '22.38', '74.52', '17.00', '27.78', '15.68', '5.92']\n",
        "['39.92', '34.16', '76.07', '55.83', '2.38', '44.93', '0.35']\n",
        "['24.06', '35.41', '71.29', '55.83', '2.38', '44.93', '0.35']\n",
        "['24.06', '44.85', '31.39', '71.12', '46.45', '84.06', '9.88']\n",
        "['24.06', '35.41', '71.29', '71.12', '46.45', '91.79', '9.88']\n",
        "['30.65', '34.16', '29.92', '71.12', '41.11', '84.06', '9.88']\n",
        "['39.92', '0.98', '71.29', '71.12', '46.45', '86.73', '9.88']\n",
        "['32.89', '0.98', '29.92', '71.12', '41.11', '84.06', '9.88']\n",
        "['32.89', '0.98', '31.39', '71.12', '41.11', '84.06', '9.88']\n",
        "['32.89', '0.00', '31.39', '71.12', '41.11', '84.06', '9.88']\n",
        "['32.51', '0.98', '31.39', '71.12', '41.11', '84.06', '9.88']\n",
        "Defenders - Genome 0\n",
        "--------------------\n",
        "['63.78', '7.85', '88.32', '78.52', '56.09', '47.62', '40.95', '82.27', '16.95', '52.87']\n",
        "['16.32', '37.30', '15.26', '45.37', '85.69', '53.52', '13.79', '43.31', '81.04', '36.18']\n",
        "['18.11', '28.73', '46.58', '9.88', '81.67', '72.84', '67.56', '66.16', '51.08', '33.99']\n",
        "['74.69', '48.56', '3.97', '55.30', '16.43', '17.16', '93.87', '12.59', '18.83', '47.07']\n",
        "['74.69', '48.56', '3.97', '55.30', '16.43', '17.16', '93.87', '12.59', '18.83', '47.07']\n",
        "['82.19', '10.53', '51.69', '9.88', '81.67', '72.84', '93.87', '66.16', '47.12', '33.99']\n",
        "['82.19', '10.53', '53.23', '55.30', '16.43', '17.16', '93.87', '66.16', '47.12', '33.99']\n",
        "['82.19', '10.53', '51.69', '55.30', '16.43', '17.16', '93.87', '66.16', '47.12', '33.99']\n",
        "['82.19', '10.53', '53.23', '55.30', '16.43', '17.16', '93.87', '66.16', '47.12', '36.52']\n",
        "['74.69', '10.56', '51.69', '63.40', '16.43', '17.16', '93.87', '66.16', '47.12', '36.52']\n",
        "['74.69', '10.56', '51.69', '63.40', '16.43', '17.16', '93.56', '66.16', '47.12', '36.52']\n",
        "['74.69', '9.86', '51.69', '63.40', '16.43', '20.88', '93.87', '66.16', '47.12', '39.71']\n"
       ]
      }
     ],
     "prompt_number": 9
    },
    {
     "cell_type": "code",
     "collapsed": false,
     "input": [],
     "language": "python",
     "metadata": {},
     "outputs": []
    }
   ],
   "metadata": {}
  }
 ]
}