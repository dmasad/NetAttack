{
 "metadata": {
  "name": "Evolution Testing - Targeting 2"
 },
 "nbformat": 3,
 "nbformat_minor": 0,
 "worksheets": [
  {
   "cells": [
    {
     "cell_type": "markdown",
     "metadata": {},
     "source": [
      "# Testing targeted evolution\n",
      "\n",
      "We test a full-strategy agent against a stupid agent which only has one strategy. This is meant to provide a test of whether the relative stability of fitness is a function of co-evolution or a bug in the system."
     ]
    },
    {
     "cell_type": "code",
     "collapsed": false,
     "input": [
      "import networkx as nx\n",
      "import matplotlib.pyplot as plt\n",
      "\n",
      "import numpy as np\n",
      "from scipy.interpolate import interp1d\n",
      "\n",
      "from DefenderAgent import Defender, StupidDefender\n",
      "from AttackerAgent import AttackerAgent, StupidAttacker\n",
      "\n",
      "from EvolutionManager import EvolutionManager"
     ],
     "language": "python",
     "metadata": {},
     "outputs": [],
     "prompt_number": 1
    },
    {
     "cell_type": "code",
     "collapsed": false,
     "input": [
      "def fitness(graph):\n",
      "    '''\n",
      "    Number of cliques (cells), adjusted by the number of disconnected components\n",
      "    '''\n",
      "    cliques = nx.graph_number_of_cliques(graph)\n",
      "    components = nx.number_connected_components(graph)\n",
      "    normed = (1.0 * cliques)/components\n",
      "    normed = 1 - (normed/100.0)\n",
      "    return normed"
     ],
     "language": "python",
     "metadata": {},
     "outputs": [],
     "prompt_number": 2
    },
    {
     "cell_type": "markdown",
     "metadata": {},
     "source": [
      "## Round 1: Full Attacker against Stupid Defender"
     ]
    },
    {
     "cell_type": "code",
     "collapsed": false,
     "input": [
      "evolution_manager = EvolutionManager(AttackerAgent, StupidDefender, 30, 90, \n",
      "                      fitness=fitness, pop_size=100, generation_count=100, \n",
      "                      offspring=2, mutation_rate=0.05, output=False, instant_rewire=False)"
     ],
     "language": "python",
     "metadata": {},
     "outputs": [],
     "prompt_number": 5
    },
    {
     "cell_type": "code",
     "collapsed": false,
     "input": [
      "for i in range(100):\n",
      "    print \"Running generation\", evolution_manager.current_generation, \"...\"\n",
      "    evolution_manager.run_generation()\n",
      "    # Max and mean fitnesses\n",
      "    print \"ATTACKER: Best: %.2f\" % max(evolution_manager.current_fitness['attackers'].values()), \"Mean: %.2f\" % np.mean(evolution_manager.current_fitness['attackers'].values())\n",
      "    print \"DEFENDER: Best: %.2f\" % max(evolution_manager.current_fitness['defenders'].values()), \"Mean: %.2f\" % np.mean(evolution_manager.current_fitness['defenders'].values())\n",
      "    print \"Breeding...\"\n",
      "    evolution_manager.breed_next_generation()\n",
      "\n",
      "print \"Done!\""
     ],
     "language": "python",
     "metadata": {},
     "outputs": [
      {
       "output_type": "stream",
       "stream": "stdout",
       "text": [
        "Running generation 0 ...\n",
        "ATTACKER: Best: 0.76"
       ]
      },
      {
       "output_type": "stream",
       "stream": "stdout",
       "text": [
        " Mean: 0.50\n",
        "DEFENDER: Best: 0.59 Mean: 0.50\n",
        "Breeding...\n",
        "Running generation 1 ...\n",
        "ATTACKER: Best: 0.64"
       ]
      },
      {
       "output_type": "stream",
       "stream": "stdout",
       "text": [
        " Mean: 0.49\n",
        "DEFENDER: Best: 0.57 Mean: 0.51\n",
        "Breeding...\n",
        "Running generation 2 ...\n",
        "ATTACKER: Best: 0.63"
       ]
      },
      {
       "output_type": "stream",
       "stream": "stdout",
       "text": [
        " Mean: 0.48\n",
        "DEFENDER: Best: 0.59 Mean: 0.52\n",
        "Breeding...\n",
        "Running generation 3 ...\n",
        "ATTACKER: Best: 0.66"
       ]
      },
      {
       "output_type": "stream",
       "stream": "stdout",
       "text": [
        " Mean: 0.49\n",
        "DEFENDER: Best: 0.59 Mean: 0.51\n",
        "Breeding...\n",
        "Running generation 4 ...\n",
        "ATTACKER: Best: 0.65"
       ]
      },
      {
       "output_type": "stream",
       "stream": "stdout",
       "text": [
        " Mean: 0.49\n",
        "DEFENDER: Best: 0.57 Mean: 0.52\n",
        "Breeding...\n",
        "Running generation 5 ...\n",
        "ATTACKER: Best: 0.69"
       ]
      },
      {
       "output_type": "stream",
       "stream": "stdout",
       "text": [
        " Mean: 0.49\n",
        "DEFENDER: Best: 0.57 Mean: 0.51\n",
        "Breeding...\n",
        "Running generation 6 ...\n",
        "ATTACKER: Best: 0.67"
       ]
      },
      {
       "output_type": "stream",
       "stream": "stdout",
       "text": [
        " Mean: 0.49\n",
        "DEFENDER: Best: 0.58 Mean: 0.51\n",
        "Breeding...\n",
        "Running generation 7 ...\n",
        "ATTACKER: Best: 0.69"
       ]
      },
      {
       "output_type": "stream",
       "stream": "stdout",
       "text": [
        " Mean: 0.49\n",
        "DEFENDER: Best: 0.59 Mean: 0.50\n",
        "Breeding...\n",
        "Running generation 8 ...\n",
        "ATTACKER: Best: 0.59"
       ]
      },
      {
       "output_type": "stream",
       "stream": "stdout",
       "text": [
        " Mean: 0.49\n",
        "DEFENDER: Best: 0.57 Mean: 0.51\n",
        "Breeding...\n",
        "Running generation 9 ...\n",
        "ATTACKER: Best: 0.73"
       ]
      },
      {
       "output_type": "stream",
       "stream": "stdout",
       "text": [
        " Mean: 0.50\n",
        "DEFENDER: Best: 0.56 Mean: 0.51\n",
        "Breeding...\n",
        "Running generation 10 ...\n",
        "ATTACKER: Best: 0.74"
       ]
      },
      {
       "output_type": "stream",
       "stream": "stdout",
       "text": [
        " Mean: 0.49\n",
        "DEFENDER: Best: 0.57 Mean: 0.51\n",
        "Breeding...\n",
        "Running generation 11 ...\n",
        "ATTACKER: Best: 0.75"
       ]
      },
      {
       "output_type": "stream",
       "stream": "stdout",
       "text": [
        " Mean: 0.49\n",
        "DEFENDER: Best: 0.56 Mean: 0.50\n",
        "Breeding...\n",
        "Running generation 12 ...\n",
        "ATTACKER: Best: 0.67"
       ]
      },
      {
       "output_type": "stream",
       "stream": "stdout",
       "text": [
        " Mean: 0.49\n",
        "DEFENDER: Best: 0.58 Mean: 0.50\n",
        "Breeding...\n",
        "Running generation 13 ...\n",
        "ATTACKER: Best: 0.68"
       ]
      },
      {
       "output_type": "stream",
       "stream": "stdout",
       "text": [
        " Mean: 0.49\n",
        "DEFENDER: Best: 0.57 Mean: 0.51\n",
        "Breeding...\n",
        "Running generation 14 ...\n",
        "ATTACKER: Best: 0.64"
       ]
      },
      {
       "output_type": "stream",
       "stream": "stdout",
       "text": [
        " Mean: 0.49\n",
        "DEFENDER: Best: 0.57 Mean: 0.52\n",
        "Breeding...\n",
        "Running generation 15 ...\n",
        "ATTACKER: Best: 0.72"
       ]
      },
      {
       "output_type": "stream",
       "stream": "stdout",
       "text": [
        " Mean: 0.49\n",
        "DEFENDER: Best: 0.57 Mean: 0.50\n",
        "Breeding...\n",
        "Running generation 16 ...\n",
        "ATTACKER: Best: 0.75"
       ]
      },
      {
       "output_type": "stream",
       "stream": "stdout",
       "text": [
        " Mean: 0.50\n",
        "DEFENDER: Best: 0.58 Mean: 0.50\n",
        "Breeding...\n",
        "Running generation 17 ...\n",
        "ATTACKER: Best: 0.64"
       ]
      },
      {
       "output_type": "stream",
       "stream": "stdout",
       "text": [
        " Mean: 0.49\n",
        "DEFENDER: Best: 0.58 Mean: 0.51\n",
        "Breeding...\n",
        "Running generation 18 ...\n",
        "ATTACKER: Best: 0.65"
       ]
      },
      {
       "output_type": "stream",
       "stream": "stdout",
       "text": [
        " Mean: 0.48\n",
        "DEFENDER: Best: 0.58 Mean: 0.51\n",
        "Breeding...\n",
        "Running generation 19 ...\n",
        "ATTACKER: Best: 0.64"
       ]
      },
      {
       "output_type": "stream",
       "stream": "stdout",
       "text": [
        " Mean: 0.48\n",
        "DEFENDER: Best: 0.57 Mean: 0.51\n",
        "Breeding...\n",
        "Running generation 20 ...\n",
        "ATTACKER: Best: 0.73"
       ]
      },
      {
       "output_type": "stream",
       "stream": "stdout",
       "text": [
        " Mean: 0.49\n",
        "DEFENDER: Best: 0.57 Mean: 0.51\n",
        "Breeding...\n",
        "Running generation 21 ...\n",
        "ATTACKER: Best: 0.63"
       ]
      },
      {
       "output_type": "stream",
       "stream": "stdout",
       "text": [
        " Mean: 0.49\n",
        "DEFENDER: Best: 0.57 Mean: 0.51\n",
        "Breeding...\n",
        "Running generation 22 ...\n",
        "ATTACKER: Best: 0.72"
       ]
      },
      {
       "output_type": "stream",
       "stream": "stdout",
       "text": [
        " Mean: 0.50\n",
        "DEFENDER: Best: 0.57 Mean: 0.49\n",
        "Breeding...\n",
        "Running generation 23 ...\n",
        "ATTACKER: Best: 0.63"
       ]
      },
      {
       "output_type": "stream",
       "stream": "stdout",
       "text": [
        " Mean: 0.49\n",
        "DEFENDER: Best: 0.57 Mean: 0.51\n",
        "Breeding...\n",
        "Running generation 24 ...\n",
        "ATTACKER: Best: 0.61"
       ]
      },
      {
       "output_type": "stream",
       "stream": "stdout",
       "text": [
        " Mean: 0.49\n",
        "DEFENDER: Best: 0.60 Mean: 0.51\n",
        "Breeding...\n",
        "Running generation 25 ...\n",
        "ATTACKER: Best: 0.70"
       ]
      },
      {
       "output_type": "stream",
       "stream": "stdout",
       "text": [
        " Mean: 0.49\n",
        "DEFENDER: Best: 0.58 Mean: 0.51\n",
        "Breeding...\n",
        "Running generation 26 ...\n",
        "ATTACKER: Best: 0.71"
       ]
      },
      {
       "output_type": "stream",
       "stream": "stdout",
       "text": [
        " Mean: 0.50\n",
        "DEFENDER: Best: 0.55 Mean: 0.50\n",
        "Breeding...\n",
        "Running generation 27 ...\n",
        "ATTACKER: Best: 0.73"
       ]
      },
      {
       "output_type": "stream",
       "stream": "stdout",
       "text": [
        " Mean: 0.49\n",
        "DEFENDER: Best: 0.57 Mean: 0.50\n",
        "Breeding...\n",
        "Running generation 28 ...\n",
        "ATTACKER: Best: 0.67"
       ]
      },
      {
       "output_type": "stream",
       "stream": "stdout",
       "text": [
        " Mean: 0.49\n",
        "DEFENDER: Best: 0.57 Mean: 0.51\n",
        "Breeding...\n",
        "Running generation 29 ...\n",
        "ATTACKER: Best: 0.74"
       ]
      },
      {
       "output_type": "stream",
       "stream": "stdout",
       "text": [
        " Mean: 0.50\n",
        "DEFENDER: Best: 0.56 Mean: 0.51\n",
        "Breeding...\n",
        "Running generation 30 ...\n",
        "ATTACKER: Best: 0.69"
       ]
      },
      {
       "output_type": "stream",
       "stream": "stdout",
       "text": [
        " Mean: 0.49\n",
        "DEFENDER: Best: 0.59 Mean: 0.51\n",
        "Breeding...\n",
        "Running generation 31 ...\n",
        "ATTACKER: Best: 0.66"
       ]
      },
      {
       "output_type": "stream",
       "stream": "stdout",
       "text": [
        " Mean: 0.50\n",
        "DEFENDER: Best: 0.57 Mean: 0.50\n",
        "Breeding...\n",
        "Running generation 32 ...\n",
        "ATTACKER: Best: 0.69"
       ]
      },
      {
       "output_type": "stream",
       "stream": "stdout",
       "text": [
        " Mean: 0.49\n",
        "DEFENDER: Best: 0.58 Mean: 0.50\n",
        "Breeding...\n",
        "Running generation 33 ...\n",
        "ATTACKER: Best: 0.61"
       ]
      },
      {
       "output_type": "stream",
       "stream": "stdout",
       "text": [
        " Mean: 0.48\n",
        "DEFENDER: Best: 0.59 Mean: 0.52\n",
        "Breeding...\n",
        "Running generation 34 ...\n",
        "ATTACKER: Best: 0.73"
       ]
      },
      {
       "output_type": "stream",
       "stream": "stdout",
       "text": [
        " Mean: 0.48\n",
        "DEFENDER: Best: 0.58 Mean: 0.52\n",
        "Breeding...\n",
        "Running generation 35 ...\n",
        "ATTACKER: Best: 0.74"
       ]
      },
      {
       "output_type": "stream",
       "stream": "stdout",
       "text": [
        " Mean: 0.49\n",
        "DEFENDER: Best: 0.60 Mean: 0.51\n",
        "Breeding...\n",
        "Running generation 36 ...\n",
        "ATTACKER: Best: 0.68"
       ]
      },
      {
       "output_type": "stream",
       "stream": "stdout",
       "text": [
        " Mean: 0.50\n",
        "DEFENDER: Best: 0.57 Mean: 0.50\n",
        "Breeding...\n",
        "Running generation 37 ...\n",
        "ATTACKER: Best: 0.62"
       ]
      },
      {
       "output_type": "stream",
       "stream": "stdout",
       "text": [
        " Mean: 0.49\n",
        "DEFENDER: Best: 0.59 Mean: 0.51\n",
        "Breeding...\n",
        "Running generation 38 ...\n",
        "ATTACKER: Best: 0.66"
       ]
      },
      {
       "output_type": "stream",
       "stream": "stdout",
       "text": [
        " Mean: 0.48\n",
        "DEFENDER: Best: 0.58 Mean: 0.52\n",
        "Breeding...\n",
        "Running generation 39 ...\n",
        "ATTACKER: Best: 0.70"
       ]
      },
      {
       "output_type": "stream",
       "stream": "stdout",
       "text": [
        " Mean: 0.49\n",
        "DEFENDER: Best: 0.59 Mean: 0.51\n",
        "Breeding...\n",
        "Running generation 40 ...\n",
        "ATTACKER: Best: 0.64"
       ]
      },
      {
       "output_type": "stream",
       "stream": "stdout",
       "text": [
        " Mean: 0.49\n",
        "DEFENDER: Best: 0.58 Mean: 0.51\n",
        "Breeding...\n",
        "Running generation 41 ...\n",
        "ATTACKER: Best: 0.67"
       ]
      },
      {
       "output_type": "stream",
       "stream": "stdout",
       "text": [
        " Mean: 0.49\n",
        "DEFENDER: Best: 0.59 Mean: 0.51\n",
        "Breeding...\n",
        "Running generation 42 ...\n",
        "ATTACKER: Best: 0.66"
       ]
      },
      {
       "output_type": "stream",
       "stream": "stdout",
       "text": [
        " Mean: 0.49\n",
        "DEFENDER: Best: 0.60 Mean: 0.51\n",
        "Breeding...\n",
        "Running generation 43 ...\n",
        "ATTACKER: Best: 0.71"
       ]
      },
      {
       "output_type": "stream",
       "stream": "stdout",
       "text": [
        " Mean: 0.49\n",
        "DEFENDER: Best: 0.61 Mean: 0.51\n",
        "Breeding...\n",
        "Running generation 44 ...\n",
        "ATTACKER: Best: 0.64"
       ]
      },
      {
       "output_type": "stream",
       "stream": "stdout",
       "text": [
        " Mean: 0.49\n",
        "DEFENDER: Best: 0.57 Mean: 0.51\n",
        "Breeding...\n",
        "Running generation 45 ...\n",
        "ATTACKER: Best: 0.77"
       ]
      },
      {
       "output_type": "stream",
       "stream": "stdout",
       "text": [
        " Mean: 0.49\n",
        "DEFENDER: Best: 0.60 Mean: 0.51\n",
        "Breeding...\n",
        "Running generation 46 ...\n",
        "ATTACKER: Best: 0.70"
       ]
      },
      {
       "output_type": "stream",
       "stream": "stdout",
       "text": [
        " Mean: 0.50\n",
        "DEFENDER: Best: 0.57 Mean: 0.51\n",
        "Breeding...\n",
        "Running generation 47 ...\n",
        "ATTACKER: Best: 0.61"
       ]
      },
      {
       "output_type": "stream",
       "stream": "stdout",
       "text": [
        " Mean: 0.49\n",
        "DEFENDER: Best: 0.58 Mean: 0.51\n",
        "Breeding...\n",
        "Running generation 48 ...\n",
        "ATTACKER: Best: 0.78"
       ]
      },
      {
       "output_type": "stream",
       "stream": "stdout",
       "text": [
        " Mean: 0.50\n",
        "DEFENDER: Best: 0.59 Mean: 0.50\n",
        "Breeding...\n",
        "Running generation 49 ...\n",
        "ATTACKER: Best: 0.72"
       ]
      },
      {
       "output_type": "stream",
       "stream": "stdout",
       "text": [
        " Mean: 0.49\n",
        "DEFENDER: Best: 0.57 Mean: 0.51\n",
        "Breeding...\n",
        "Running generation 50 ...\n",
        "ATTACKER: Best: 0.63"
       ]
      },
      {
       "output_type": "stream",
       "stream": "stdout",
       "text": [
        " Mean: 0.49\n",
        "DEFENDER: Best: 0.59 Mean: 0.51\n",
        "Breeding...\n",
        "Running generation 51 ...\n",
        "ATTACKER: Best: 0.61"
       ]
      },
      {
       "output_type": "stream",
       "stream": "stdout",
       "text": [
        " Mean: 0.49\n",
        "DEFENDER: Best: 0.58 Mean: 0.51\n",
        "Breeding...\n",
        "Running generation 52 ...\n",
        "ATTACKER: Best: 0.66"
       ]
      },
      {
       "output_type": "stream",
       "stream": "stdout",
       "text": [
        " Mean: 0.49\n",
        "DEFENDER: Best: 0.57 Mean: 0.50\n",
        "Breeding...\n",
        "Running generation 53 ...\n",
        "ATTACKER: Best: 0.67"
       ]
      },
      {
       "output_type": "stream",
       "stream": "stdout",
       "text": [
        " Mean: 0.49\n",
        "DEFENDER: Best: 0.56 Mean: 0.51\n",
        "Breeding...\n",
        "Running generation 54 ...\n",
        "ATTACKER: Best: 0.69"
       ]
      },
      {
       "output_type": "stream",
       "stream": "stdout",
       "text": [
        " Mean: 0.49\n",
        "DEFENDER: Best: 0.57 Mean: 0.51\n",
        "Breeding...\n",
        "Running generation 55 ...\n",
        "ATTACKER: Best: 0.61"
       ]
      },
      {
       "output_type": "stream",
       "stream": "stdout",
       "text": [
        " Mean: 0.49\n",
        "DEFENDER: Best: 0.60 Mean: 0.51\n",
        "Breeding...\n",
        "Running generation 56 ...\n",
        "ATTACKER: Best: 0.66"
       ]
      },
      {
       "output_type": "stream",
       "stream": "stdout",
       "text": [
        " Mean: 0.49\n",
        "DEFENDER: Best: 0.59 Mean: 0.51\n",
        "Breeding...\n",
        "Running generation 57 ...\n",
        "ATTACKER: Best: 0.70"
       ]
      },
      {
       "output_type": "stream",
       "stream": "stdout",
       "text": [
        " Mean: 0.49\n",
        "DEFENDER: Best: 0.59 Mean: 0.51\n",
        "Breeding...\n",
        "Running generation 58 ...\n",
        "ATTACKER: Best: 0.59"
       ]
      },
      {
       "output_type": "stream",
       "stream": "stdout",
       "text": [
        " Mean: 0.49\n",
        "DEFENDER: Best: 0.59 Mean: 0.50\n",
        "Breeding...\n",
        "Running generation 59 ...\n",
        "ATTACKER: Best: 0.76"
       ]
      },
      {
       "output_type": "stream",
       "stream": "stdout",
       "text": [
        " Mean: 0.50\n",
        "DEFENDER: Best: 0.57 Mean: 0.50\n",
        "Breeding...\n",
        "Running generation 60 ...\n",
        "ATTACKER: Best: 0.74"
       ]
      },
      {
       "output_type": "stream",
       "stream": "stdout",
       "text": [
        " Mean: 0.50\n",
        "DEFENDER: Best: 0.58 Mean: 0.50\n",
        "Breeding...\n",
        "Running generation 61 ...\n",
        "ATTACKER: Best: 0.64"
       ]
      },
      {
       "output_type": "stream",
       "stream": "stdout",
       "text": [
        " Mean: 0.49\n",
        "DEFENDER: Best: 0.57 Mean: 0.51\n",
        "Breeding...\n",
        "Running generation 62 ...\n",
        "ATTACKER: Best: 0.60"
       ]
      },
      {
       "output_type": "stream",
       "stream": "stdout",
       "text": [
        " Mean: 0.49\n",
        "DEFENDER: Best: 0.59 Mean: 0.51\n",
        "Breeding...\n",
        "Running generation 63 ...\n",
        "ATTACKER: Best: 0.62"
       ]
      },
      {
       "output_type": "stream",
       "stream": "stdout",
       "text": [
        " Mean: 0.48\n",
        "DEFENDER: Best: 0.57 Mean: 0.51\n",
        "Breeding...\n",
        "Running generation 64 ...\n",
        "ATTACKER: Best: 0.62"
       ]
      },
      {
       "output_type": "stream",
       "stream": "stdout",
       "text": [
        " Mean: 0.49\n",
        "DEFENDER: Best: 0.57 Mean: 0.51\n",
        "Breeding...\n",
        "Running generation 65 ...\n",
        "ATTACKER: Best: 0.63"
       ]
      },
      {
       "output_type": "stream",
       "stream": "stdout",
       "text": [
        " Mean: 0.49\n",
        "DEFENDER: Best: 0.58 Mean: 0.51\n",
        "Breeding...\n",
        "Running generation 66 ...\n",
        "ATTACKER: Best: 0.60"
       ]
      },
      {
       "output_type": "stream",
       "stream": "stdout",
       "text": [
        " Mean: 0.48\n",
        "DEFENDER: Best: 0.58 Mean: 0.52\n",
        "Breeding...\n",
        "Running generation 67 ...\n",
        "ATTACKER: Best: 0.61"
       ]
      },
      {
       "output_type": "stream",
       "stream": "stdout",
       "text": [
        " Mean: 0.49\n",
        "DEFENDER: Best: 0.57 Mean: 0.51\n",
        "Breeding...\n",
        "Running generation 68 ...\n",
        "ATTACKER: Best: 0.61"
       ]
      },
      {
       "output_type": "stream",
       "stream": "stdout",
       "text": [
        " Mean: 0.49\n",
        "DEFENDER: Best: 0.57 Mean: 0.51\n",
        "Breeding...\n",
        "Running generation 69 ...\n",
        "ATTACKER: Best: 0.76"
       ]
      },
      {
       "output_type": "stream",
       "stream": "stdout",
       "text": [
        " Mean: 0.50\n",
        "DEFENDER: Best: 0.56 Mean: 0.51\n",
        "Breeding...\n",
        "Running generation 70 ...\n",
        "ATTACKER: Best: 0.60"
       ]
      },
      {
       "output_type": "stream",
       "stream": "stdout",
       "text": [
        " Mean: 0.49\n",
        "DEFENDER: Best: 0.60 Mean: 0.51\n",
        "Breeding...\n",
        "Running generation 71 ...\n",
        "ATTACKER: Best: 0.73"
       ]
      },
      {
       "output_type": "stream",
       "stream": "stdout",
       "text": [
        " Mean: 0.49\n",
        "DEFENDER: Best: 0.58 Mean: 0.51\n",
        "Breeding...\n",
        "Running generation 72 ...\n",
        "ATTACKER: Best: 0.76"
       ]
      },
      {
       "output_type": "stream",
       "stream": "stdout",
       "text": [
        " Mean: 0.49\n",
        "DEFENDER: Best: 0.57 Mean: 0.51\n",
        "Breeding...\n",
        "Running generation 73 ...\n",
        "ATTACKER: Best: 0.70"
       ]
      },
      {
       "output_type": "stream",
       "stream": "stdout",
       "text": [
        " Mean: 0.50\n",
        "DEFENDER: Best: 0.57 Mean: 0.50\n",
        "Breeding...\n",
        "Running generation 74 ...\n",
        "ATTACKER: Best: 0.75"
       ]
      },
      {
       "output_type": "stream",
       "stream": "stdout",
       "text": [
        " Mean: 0.50\n",
        "DEFENDER: Best: 0.58 Mean: 0.51\n",
        "Breeding...\n",
        "Running generation 75 ...\n",
        "ATTACKER: Best: 0.71"
       ]
      },
      {
       "output_type": "stream",
       "stream": "stdout",
       "text": [
        " Mean: 0.49\n",
        "DEFENDER: Best: 0.57 Mean: 0.50\n",
        "Breeding...\n",
        "Running generation 76 ...\n",
        "ATTACKER: Best: 0.69"
       ]
      },
      {
       "output_type": "stream",
       "stream": "stdout",
       "text": [
        " Mean: 0.50\n",
        "DEFENDER: Best: 0.56 Mean: 0.50\n",
        "Breeding...\n",
        "Running generation 77 ...\n",
        "ATTACKER: Best: 0.68"
       ]
      },
      {
       "output_type": "stream",
       "stream": "stdout",
       "text": [
        " Mean: 0.50\n",
        "DEFENDER: Best: 0.58 Mean: 0.50\n",
        "Breeding...\n",
        "Running generation 78 ...\n",
        "ATTACKER: Best: 0.70"
       ]
      },
      {
       "output_type": "stream",
       "stream": "stdout",
       "text": [
        " Mean: 0.50\n",
        "DEFENDER: Best: 0.58 Mean: 0.51\n",
        "Breeding...\n",
        "Running generation 79 ...\n",
        "ATTACKER: Best: 0.66"
       ]
      },
      {
       "output_type": "stream",
       "stream": "stdout",
       "text": [
        " Mean: 0.50\n",
        "DEFENDER: Best: 0.59 Mean: 0.50\n",
        "Breeding...\n",
        "Running generation 80 ...\n",
        "ATTACKER: Best: 0.73"
       ]
      },
      {
       "output_type": "stream",
       "stream": "stdout",
       "text": [
        " Mean: 0.50\n",
        "DEFENDER: Best: 0.58 Mean: 0.50\n",
        "Breeding...\n",
        "Running generation 81 ...\n",
        "ATTACKER: Best: 0.75"
       ]
      },
      {
       "output_type": "stream",
       "stream": "stdout",
       "text": [
        " Mean: 0.50\n",
        "DEFENDER: Best: 0.58 Mean: 0.51\n",
        "Breeding...\n",
        "Running generation 82 ...\n",
        "ATTACKER: Best: 0.67"
       ]
      },
      {
       "output_type": "stream",
       "stream": "stdout",
       "text": [
        " Mean: 0.49\n",
        "DEFENDER: Best: 0.58 Mean: 0.51\n",
        "Breeding...\n",
        "Running generation 83 ...\n",
        "ATTACKER: Best: 0.68"
       ]
      },
      {
       "output_type": "stream",
       "stream": "stdout",
       "text": [
        " Mean: 0.49\n",
        "DEFENDER: Best: 0.58 Mean: 0.51\n",
        "Breeding...\n",
        "Running generation 84 ...\n",
        "ATTACKER: Best: 0.70"
       ]
      },
      {
       "output_type": "stream",
       "stream": "stdout",
       "text": [
        " Mean: 0.50\n",
        "DEFENDER: Best: 0.58 Mean: 0.50\n",
        "Breeding...\n",
        "Running generation 85 ...\n",
        "ATTACKER: Best: 0.75"
       ]
      },
      {
       "output_type": "stream",
       "stream": "stdout",
       "text": [
        " Mean: 0.49\n",
        "DEFENDER: Best: 0.57 Mean: 0.51\n",
        "Breeding...\n",
        "Running generation 86 ...\n",
        "ATTACKER: Best: 0.69"
       ]
      },
      {
       "output_type": "stream",
       "stream": "stdout",
       "text": [
        " Mean: 0.50\n",
        "DEFENDER: Best: 0.59 Mean: 0.50\n",
        "Breeding...\n",
        "Running generation 87 ...\n",
        "ATTACKER: Best: 0.63"
       ]
      },
      {
       "output_type": "stream",
       "stream": "stdout",
       "text": [
        " Mean: 0.49\n",
        "DEFENDER: Best: 0.58 Mean: 0.52\n",
        "Breeding...\n",
        "Running generation 88 ...\n",
        "ATTACKER: Best: 0.66"
       ]
      },
      {
       "output_type": "stream",
       "stream": "stdout",
       "text": [
        " Mean: 0.49\n",
        "DEFENDER: Best: 0.59 Mean: 0.52\n",
        "Breeding...\n",
        "Running generation 89 ...\n",
        "ATTACKER: Best: 0.73"
       ]
      },
      {
       "output_type": "stream",
       "stream": "stdout",
       "text": [
        " Mean: 0.49\n",
        "DEFENDER: Best: 0.59 Mean: 0.52\n",
        "Breeding...\n",
        "Running generation 90 ...\n",
        "ATTACKER: Best: 0.72"
       ]
      },
      {
       "output_type": "stream",
       "stream": "stdout",
       "text": [
        " Mean: 0.49\n",
        "DEFENDER: Best: 0.61 Mean: 0.51\n",
        "Breeding...\n",
        "Running generation 91 ...\n",
        "ATTACKER: Best: 0.64"
       ]
      },
      {
       "output_type": "stream",
       "stream": "stdout",
       "text": [
        " Mean: 0.49\n",
        "DEFENDER: Best: 0.58 Mean: 0.51\n",
        "Breeding...\n",
        "Running generation 92 ...\n",
        "ATTACKER: Best: 0.67"
       ]
      },
      {
       "output_type": "stream",
       "stream": "stdout",
       "text": [
        " Mean: 0.50\n",
        "DEFENDER: Best: 0.58 Mean: 0.50\n",
        "Breeding...\n",
        "Running generation 93 ...\n",
        "ATTACKER: Best: 0.76"
       ]
      },
      {
       "output_type": "stream",
       "stream": "stdout",
       "text": [
        " Mean: 0.49\n",
        "DEFENDER: Best: 0.58 Mean: 0.51\n",
        "Breeding...\n",
        "Running generation 94 ...\n",
        "ATTACKER: Best: 0.67"
       ]
      },
      {
       "output_type": "stream",
       "stream": "stdout",
       "text": [
        " Mean: 0.48\n",
        "DEFENDER: Best: 0.58 Mean: 0.51\n",
        "Breeding...\n",
        "Running generation 95 ...\n",
        "ATTACKER: Best: 0.62"
       ]
      },
      {
       "output_type": "stream",
       "stream": "stdout",
       "text": [
        " Mean: 0.49\n",
        "DEFENDER: Best: 0.58 Mean: 0.51\n",
        "Breeding...\n",
        "Running generation 96 ...\n",
        "ATTACKER: Best: 0.76"
       ]
      },
      {
       "output_type": "stream",
       "stream": "stdout",
       "text": [
        " Mean: 0.50\n",
        "DEFENDER: Best: 0.58 Mean: 0.51\n",
        "Breeding...\n",
        "Running generation 97 ...\n",
        "ATTACKER: Best: 0.75"
       ]
      },
      {
       "output_type": "stream",
       "stream": "stdout",
       "text": [
        " Mean: 0.50\n",
        "DEFENDER: Best: 0.58 Mean: 0.51\n",
        "Breeding...\n",
        "Running generation 98 ...\n",
        "ATTACKER: Best: 0.63"
       ]
      },
      {
       "output_type": "stream",
       "stream": "stdout",
       "text": [
        " Mean: 0.49\n",
        "DEFENDER: Best: 0.57 Mean: 0.51\n",
        "Breeding...\n",
        "Running generation 99 ...\n",
        "ATTACKER: Best: 0.66"
       ]
      },
      {
       "output_type": "stream",
       "stream": "stdout",
       "text": [
        " Mean: 0.49\n",
        "DEFENDER: Best: 0.57 Mean: 0.51\n",
        "Breeding...\n",
        "Done!\n"
       ]
      }
     ],
     "prompt_number": 6
    },
    {
     "cell_type": "markdown",
     "metadata": {},
     "source": [
      "## Round 2: Stupid Attacker against Full Defender"
     ]
    },
    {
     "cell_type": "code",
     "collapsed": false,
     "input": [
      "evolution_manager = EvolutionManager(StupidAttacker, Defender, 30, 90, \n",
      "                      fitness=fitness, pop_size=100, generation_count=100, \n",
      "                      offspring=2, mutation_rate=0.05, output=False, instant_rewire=False)"
     ],
     "language": "python",
     "metadata": {},
     "outputs": [],
     "prompt_number": 7
    },
    {
     "cell_type": "code",
     "collapsed": false,
     "input": [
      "for i in range(100):\n",
      "    print \"Running generation\", evolution_manager.current_generation, \"...\"\n",
      "    evolution_manager.run_generation()\n",
      "    # Max and mean fitnesses\n",
      "    print \"ATTACKER: Best: %.2f\" % max(evolution_manager.current_fitness['attackers'].values()), \"Mean: %.2f\" % np.mean(evolution_manager.current_fitness['attackers'].values())\n",
      "    print \"DEFENDER: Best: %.2f\" % max(evolution_manager.current_fitness['defenders'].values()), \"Mean: %.2f\" % np.mean(evolution_manager.current_fitness['defenders'].values())\n",
      "    print \"Breeding...\"\n",
      "    evolution_manager.breed_next_generation()\n",
      "\n",
      "print \"Done!\""
     ],
     "language": "python",
     "metadata": {},
     "outputs": [
      {
       "output_type": "stream",
       "stream": "stdout",
       "text": [
        "Running generation 0 ...\n",
        "ATTACKER: Best: 0.67"
       ]
      },
      {
       "output_type": "stream",
       "stream": "stdout",
       "text": [
        " Mean: 0.50\n",
        "DEFENDER: Best: 0.57 Mean: 0.50\n",
        "Breeding...\n",
        "Running generation 1 ...\n",
        "ATTACKER: Best: 0.59"
       ]
      },
      {
       "output_type": "stream",
       "stream": "stdout",
       "text": [
        " Mean: 0.49\n",
        "DEFENDER: Best: 0.59 Mean: 0.51\n",
        "Breeding...\n",
        "Running generation 2 ...\n",
        "ATTACKER: Best: 0.72"
       ]
      },
      {
       "output_type": "stream",
       "stream": "stdout",
       "text": [
        " Mean: 0.49\n",
        "DEFENDER: Best: 0.59 Mean: 0.50\n",
        "Breeding...\n",
        "Running generation 3 ...\n",
        "ATTACKER: Best: 0.58"
       ]
      },
      {
       "output_type": "stream",
       "stream": "stdout",
       "text": [
        " Mean: 0.48\n",
        "DEFENDER: Best: 0.58 Mean: 0.51\n",
        "Breeding...\n",
        "Running generation 4 ...\n",
        "ATTACKER: Best: 0.55"
       ]
      },
      {
       "output_type": "stream",
       "stream": "stdout",
       "text": [
        " Mean: 0.48\n",
        "DEFENDER: Best: 0.58 Mean: 0.51\n",
        "Breeding...\n",
        "Running generation 5 ...\n",
        "ATTACKER: Best: 0.60"
       ]
      },
      {
       "output_type": "stream",
       "stream": "stdout",
       "text": [
        " Mean: 0.49\n",
        "DEFENDER: Best: 0.59 Mean: 0.51\n",
        "Breeding...\n",
        "Running generation 6 ...\n",
        "ATTACKER: Best: 0.63"
       ]
      },
      {
       "output_type": "stream",
       "stream": "stdout",
       "text": [
        " Mean: 0.50\n",
        "DEFENDER: Best: 0.56 Mean: 0.50\n",
        "Breeding...\n",
        "Running generation 7 ...\n",
        "ATTACKER: Best: 0.55"
       ]
      },
      {
       "output_type": "stream",
       "stream": "stdout",
       "text": [
        " Mean: 0.48\n",
        "DEFENDER: Best: 0.57 Mean: 0.52\n",
        "Breeding...\n",
        "Running generation 8 ...\n",
        "ATTACKER: Best: 0.60"
       ]
      },
      {
       "output_type": "stream",
       "stream": "stdout",
       "text": [
        " Mean: 0.49\n",
        "DEFENDER: Best: 0.56 Mean: 0.51\n",
        "Breeding...\n",
        "Running generation 9 ...\n",
        "ATTACKER: Best: 0.68"
       ]
      },
      {
       "output_type": "stream",
       "stream": "stdout",
       "text": [
        " Mean: 0.50\n",
        "DEFENDER: Best: 0.57 Mean: 0.51\n",
        "Breeding...\n",
        "Running generation 10 ...\n",
        "ATTACKER: Best: 0.65"
       ]
      },
      {
       "output_type": "stream",
       "stream": "stdout",
       "text": [
        " Mean: 0.48\n",
        "DEFENDER: Best: 0.58 Mean: 0.51\n",
        "Breeding...\n",
        "Running generation 11 ...\n",
        "ATTACKER: Best: 0.65"
       ]
      },
      {
       "output_type": "stream",
       "stream": "stdout",
       "text": [
        " Mean: 0.49\n",
        "DEFENDER: Best: 0.59 Mean: 0.51\n",
        "Breeding...\n",
        "Running generation 12 ...\n",
        "ATTACKER: Best: 0.74"
       ]
      },
      {
       "output_type": "stream",
       "stream": "stdout",
       "text": [
        " Mean: 0.50\n",
        "DEFENDER: Best: 0.59 Mean: 0.50\n",
        "Breeding...\n",
        "Running generation 13 ...\n",
        "ATTACKER: Best: 0.58"
       ]
      },
      {
       "output_type": "stream",
       "stream": "stdout",
       "text": [
        " Mean: 0.48\n",
        "DEFENDER: Best: 0.58 Mean: 0.51\n",
        "Breeding...\n",
        "Running generation 14 ...\n",
        "ATTACKER: Best: 0.53"
       ]
      },
      {
       "output_type": "stream",
       "stream": "stdout",
       "text": [
        " Mean: 0.48\n",
        "DEFENDER: Best: 0.59 Mean: 0.51\n",
        "Breeding...\n",
        "Running generation 15 ...\n",
        "ATTACKER: Best: 0.58"
       ]
      },
      {
       "output_type": "stream",
       "stream": "stdout",
       "text": [
        " Mean: 0.49\n",
        "DEFENDER: Best: 0.59 Mean: 0.51\n",
        "Breeding...\n",
        "Running generation 16 ...\n",
        "ATTACKER: Best: 0.52"
       ]
      },
      {
       "output_type": "stream",
       "stream": "stdout",
       "text": [
        " Mean: 0.48\n",
        "DEFENDER: Best: 0.57 Mean: 0.51\n",
        "Breeding...\n",
        "Running generation 17 ...\n",
        "ATTACKER: Best: 0.57"
       ]
      },
      {
       "output_type": "stream",
       "stream": "stdout",
       "text": [
        " Mean: 0.49\n",
        "DEFENDER: Best: 0.57 Mean: 0.51\n",
        "Breeding...\n",
        "Running generation 18 ...\n",
        "ATTACKER: Best: 0.54"
       ]
      },
      {
       "output_type": "stream",
       "stream": "stdout",
       "text": [
        " Mean: 0.49\n",
        "DEFENDER: Best: 0.58 Mean: 0.51\n",
        "Breeding...\n",
        "Running generation 19 ...\n",
        "ATTACKER: Best: 0.56"
       ]
      },
      {
       "output_type": "stream",
       "stream": "stdout",
       "text": [
        " Mean: 0.49\n",
        "DEFENDER: Best: 0.58 Mean: 0.51\n",
        "Breeding...\n",
        "Running generation 20 ...\n",
        "ATTACKER: Best: 0.66"
       ]
      },
      {
       "output_type": "stream",
       "stream": "stdout",
       "text": [
        " Mean: 0.49\n",
        "DEFENDER: Best: 0.59 Mean: 0.52\n",
        "Breeding...\n",
        "Running generation 21 ...\n",
        "ATTACKER: Best: 0.61"
       ]
      },
      {
       "output_type": "stream",
       "stream": "stdout",
       "text": [
        " Mean: 0.49\n",
        "DEFENDER: Best: 0.57 Mean: 0.51\n",
        "Breeding...\n",
        "Running generation 22 ...\n",
        "ATTACKER: Best: 0.56"
       ]
      },
      {
       "output_type": "stream",
       "stream": "stdout",
       "text": [
        " Mean: 0.47\n",
        "DEFENDER: Best: 0.58 Mean: 0.51\n",
        "Breeding...\n",
        "Running generation 23 ...\n",
        "ATTACKER: Best: 0.60"
       ]
      },
      {
       "output_type": "stream",
       "stream": "stdout",
       "text": [
        " Mean: 0.49\n",
        "DEFENDER: Best: 0.56 Mean: 0.51\n",
        "Breeding...\n",
        "Running generation 24 ...\n",
        "ATTACKER: Best: 0.57"
       ]
      },
      {
       "output_type": "stream",
       "stream": "stdout",
       "text": [
        " Mean: 0.50\n",
        "DEFENDER: Best: 0.57 Mean: 0.51\n",
        "Breeding...\n",
        "Running generation 25 ...\n",
        "ATTACKER: Best: 0.68"
       ]
      },
      {
       "output_type": "stream",
       "stream": "stdout",
       "text": [
        " Mean: 0.50\n",
        "DEFENDER: Best: 0.58 Mean: 0.51\n",
        "Breeding...\n",
        "Running generation 26 ...\n",
        "ATTACKER: Best: 0.53"
       ]
      },
      {
       "output_type": "stream",
       "stream": "stdout",
       "text": [
        " Mean: 0.48\n",
        "DEFENDER: Best: 0.58 Mean: 0.51\n",
        "Breeding...\n",
        "Running generation 27 ...\n",
        "ATTACKER: Best: 0.61"
       ]
      },
      {
       "output_type": "stream",
       "stream": "stdout",
       "text": [
        " Mean: 0.50\n",
        "DEFENDER: Best: 0.57 Mean: 0.51\n",
        "Breeding...\n",
        "Running generation 28 ...\n",
        "ATTACKER: Best: 0.66"
       ]
      },
      {
       "output_type": "stream",
       "stream": "stdout",
       "text": [
        " Mean: 0.50\n",
        "DEFENDER: Best: 0.57 Mean: 0.50\n",
        "Breeding...\n",
        "Running generation 29 ...\n",
        "ATTACKER: Best: 0.59"
       ]
      },
      {
       "output_type": "stream",
       "stream": "stdout",
       "text": [
        " Mean: 0.49\n",
        "DEFENDER: Best: 0.57 Mean: 0.50\n",
        "Breeding...\n",
        "Running generation 30 ...\n",
        "ATTACKER: Best: 0.65"
       ]
      },
      {
       "output_type": "stream",
       "stream": "stdout",
       "text": [
        " Mean: 0.51\n",
        "DEFENDER: Best: 0.60 Mean: 0.50\n",
        "Breeding...\n",
        "Running generation 31 ...\n",
        "ATTACKER: Best: 0.58"
       ]
      },
      {
       "output_type": "stream",
       "stream": "stdout",
       "text": [
        " Mean: 0.50\n",
        "DEFENDER: Best: 0.56 Mean: 0.50\n",
        "Breeding...\n",
        "Running generation 32 ...\n",
        "ATTACKER: Best: 0.51"
       ]
      },
      {
       "output_type": "stream",
       "stream": "stdout",
       "text": [
        " Mean: 0.48\n",
        "DEFENDER: Best: 0.57 Mean: 0.51\n",
        "Breeding...\n",
        "Running generation 33 ...\n",
        "ATTACKER: Best: 0.74"
       ]
      },
      {
       "output_type": "stream",
       "stream": "stdout",
       "text": [
        " Mean: 0.50\n",
        "DEFENDER: Best: 0.57 Mean: 0.51\n",
        "Breeding...\n",
        "Running generation 34 ...\n",
        "ATTACKER: Best: 0.59"
       ]
      },
      {
       "output_type": "stream",
       "stream": "stdout",
       "text": [
        " Mean: 0.49\n",
        "DEFENDER: Best: 0.57 Mean: 0.51\n",
        "Breeding...\n",
        "Running generation 35 ...\n",
        "ATTACKER: Best: 0.75"
       ]
      },
      {
       "output_type": "stream",
       "stream": "stdout",
       "text": [
        " Mean: 0.49\n",
        "DEFENDER: Best: 0.57 Mean: 0.50\n",
        "Breeding...\n",
        "Running generation 36 ...\n",
        "ATTACKER: Best: 0.68"
       ]
      },
      {
       "output_type": "stream",
       "stream": "stdout",
       "text": [
        " Mean: 0.50\n",
        "DEFENDER: Best: 0.59 Mean: 0.51\n",
        "Breeding...\n",
        "Running generation 37 ...\n",
        "ATTACKER: Best: 0.74"
       ]
      },
      {
       "output_type": "stream",
       "stream": "stdout",
       "text": [
        " Mean: 0.51\n",
        "DEFENDER: Best: 0.58 Mean: 0.51\n",
        "Breeding...\n",
        "Running generation 38 ...\n",
        "ATTACKER: Best: 0.62"
       ]
      },
      {
       "output_type": "stream",
       "stream": "stdout",
       "text": [
        " Mean: 0.50\n",
        "DEFENDER: Best: 0.57 Mean: 0.50\n",
        "Breeding...\n",
        "Running generation 39 ...\n",
        "ATTACKER: Best: 0.65"
       ]
      },
      {
       "output_type": "stream",
       "stream": "stdout",
       "text": [
        " Mean: 0.49\n",
        "DEFENDER: Best: 0.58 Mean: 0.51\n",
        "Breeding...\n",
        "Running generation 40 ...\n",
        "ATTACKER: Best: 0.63"
       ]
      },
      {
       "output_type": "stream",
       "stream": "stdout",
       "text": [
        " Mean: 0.49\n",
        "DEFENDER: Best: 0.58 Mean: 0.50\n",
        "Breeding...\n",
        "Running generation 41 ...\n",
        "ATTACKER: Best: 0.70"
       ]
      },
      {
       "output_type": "stream",
       "stream": "stdout",
       "text": [
        " Mean: 0.49\n",
        "DEFENDER: Best: 0.59 Mean: 0.52\n",
        "Breeding...\n",
        "Running generation 42 ...\n",
        "ATTACKER: Best: 0.66"
       ]
      },
      {
       "output_type": "stream",
       "stream": "stdout",
       "text": [
        " Mean: 0.49\n",
        "DEFENDER: Best: 0.57 Mean: 0.51\n",
        "Breeding...\n",
        "Running generation 43 ...\n",
        "ATTACKER: Best: 0.60"
       ]
      },
      {
       "output_type": "stream",
       "stream": "stdout",
       "text": [
        " Mean: 0.49\n",
        "DEFENDER: Best: 0.58 Mean: 0.51\n",
        "Breeding...\n",
        "Running generation 44 ...\n",
        "ATTACKER: Best: 0.65"
       ]
      },
      {
       "output_type": "stream",
       "stream": "stdout",
       "text": [
        " Mean: 0.49\n",
        "DEFENDER: Best: 0.59 Mean: 0.52\n",
        "Breeding...\n",
        "Running generation 45 ...\n",
        "ATTACKER: Best: 0.58"
       ]
      },
      {
       "output_type": "stream",
       "stream": "stdout",
       "text": [
        " Mean: 0.48\n",
        "DEFENDER: Best: 0.57 Mean: 0.50\n",
        "Breeding...\n",
        "Running generation 46 ...\n",
        "ATTACKER: Best: 0.63"
       ]
      },
      {
       "output_type": "stream",
       "stream": "stdout",
       "text": [
        " Mean: 0.49\n",
        "DEFENDER: Best: 0.58 Mean: 0.51\n",
        "Breeding...\n",
        "Running generation 47 ...\n",
        "ATTACKER: Best: 0.58"
       ]
      },
      {
       "output_type": "stream",
       "stream": "stdout",
       "text": [
        " Mean: 0.49\n",
        "DEFENDER: Best: 0.57 Mean: 0.51\n",
        "Breeding...\n",
        "Running generation 48 ...\n",
        "ATTACKER: Best: 0.55"
       ]
      },
      {
       "output_type": "stream",
       "stream": "stdout",
       "text": [
        " Mean: 0.48\n",
        "DEFENDER: Best: 0.60 Mean: 0.52\n",
        "Breeding...\n",
        "Running generation 49 ...\n",
        "ATTACKER: Best: 0.63"
       ]
      },
      {
       "output_type": "stream",
       "stream": "stdout",
       "text": [
        " Mean: 0.49\n",
        "DEFENDER: Best: 0.57 Mean: 0.51\n",
        "Breeding...\n",
        "Running generation 50 ...\n",
        "ATTACKER: Best: 0.65"
       ]
      },
      {
       "output_type": "stream",
       "stream": "stdout",
       "text": [
        " Mean: 0.48\n",
        "DEFENDER: Best: 0.59 Mean: 0.51\n",
        "Breeding...\n",
        "Running generation 51 ...\n",
        "ATTACKER: Best: 0.56"
       ]
      },
      {
       "output_type": "stream",
       "stream": "stdout",
       "text": [
        " Mean: 0.49\n",
        "DEFENDER: Best: 0.58 Mean: 0.50\n",
        "Breeding...\n",
        "Running generation 52 ...\n",
        "ATTACKER: Best: 0.60"
       ]
      },
      {
       "output_type": "stream",
       "stream": "stdout",
       "text": [
        " Mean: 0.50\n",
        "DEFENDER: Best: 0.58 Mean: 0.50\n",
        "Breeding...\n",
        "Running generation 53 ...\n",
        "ATTACKER: Best: 0.58"
       ]
      },
      {
       "output_type": "stream",
       "stream": "stdout",
       "text": [
        " Mean: 0.49\n",
        "DEFENDER: Best: 0.58 Mean: 0.51\n",
        "Breeding...\n",
        "Running generation 54 ...\n",
        "ATTACKER: Best: 0.53"
       ]
      },
      {
       "output_type": "stream",
       "stream": "stdout",
       "text": [
        " Mean: 0.49\n",
        "DEFENDER: Best: 0.58 Mean: 0.51\n",
        "Breeding...\n",
        "Running generation 55 ...\n",
        "ATTACKER: Best: 0.68"
       ]
      },
      {
       "output_type": "stream",
       "stream": "stdout",
       "text": [
        " Mean: 0.49\n",
        "DEFENDER: Best: 0.57 Mean: 0.50\n",
        "Breeding...\n",
        "Running generation 56 ...\n",
        "ATTACKER: Best: 0.59"
       ]
      },
      {
       "output_type": "stream",
       "stream": "stdout",
       "text": [
        " Mean: 0.50\n",
        "DEFENDER: Best: 0.56 Mean: 0.51\n",
        "Breeding...\n",
        "Running generation 57 ...\n",
        "ATTACKER: Best: 0.62"
       ]
      },
      {
       "output_type": "stream",
       "stream": "stdout",
       "text": [
        " Mean: 0.49\n",
        "DEFENDER: Best: 0.58 Mean: 0.51\n",
        "Breeding...\n",
        "Running generation 58 ...\n",
        "ATTACKER: Best: 0.56"
       ]
      },
      {
       "output_type": "stream",
       "stream": "stdout",
       "text": [
        " Mean: 0.49\n",
        "DEFENDER: Best: 0.57 Mean: 0.51\n",
        "Breeding...\n",
        "Running generation 59 ...\n",
        "ATTACKER: Best: 0.63"
       ]
      },
      {
       "output_type": "stream",
       "stream": "stdout",
       "text": [
        " Mean: 0.49\n",
        "DEFENDER: Best: 0.58 Mean: 0.51\n",
        "Breeding...\n",
        "Running generation 60 ...\n",
        "ATTACKER: Best: 0.58"
       ]
      },
      {
       "output_type": "stream",
       "stream": "stdout",
       "text": [
        " Mean: 0.48\n",
        "DEFENDER: Best: 0.57 Mean: 0.52\n",
        "Breeding...\n",
        "Running generation 61 ...\n",
        "ATTACKER: Best: 0.61"
       ]
      },
      {
       "output_type": "stream",
       "stream": "stdout",
       "text": [
        " Mean: 0.50\n",
        "DEFENDER: Best: 0.60 Mean: 0.50\n",
        "Breeding...\n",
        "Running generation 62 ...\n",
        "ATTACKER: Best: 0.65"
       ]
      },
      {
       "output_type": "stream",
       "stream": "stdout",
       "text": [
        " Mean: 0.49\n",
        "DEFENDER: Best: 0.57 Mean: 0.51\n",
        "Breeding...\n",
        "Running generation 63 ...\n",
        "ATTACKER: Best: 0.58"
       ]
      },
      {
       "output_type": "stream",
       "stream": "stdout",
       "text": [
        " Mean: 0.49\n",
        "DEFENDER: Best: 0.56 Mean: 0.50\n",
        "Breeding...\n",
        "Running generation 64 ...\n",
        "ATTACKER: Best: 0.56"
       ]
      },
      {
       "output_type": "stream",
       "stream": "stdout",
       "text": [
        " Mean: 0.48\n",
        "DEFENDER: Best: 0.59 Mean: 0.51\n",
        "Breeding...\n",
        "Running generation 65 ...\n",
        "ATTACKER: Best: 0.62"
       ]
      },
      {
       "output_type": "stream",
       "stream": "stdout",
       "text": [
        " Mean: 0.49\n",
        "DEFENDER: Best: 0.58 Mean: 0.51\n",
        "Breeding...\n",
        "Running generation 66 ...\n",
        "ATTACKER: Best: 0.62"
       ]
      },
      {
       "output_type": "stream",
       "stream": "stdout",
       "text": [
        " Mean: 0.48\n",
        "DEFENDER: Best: 0.59 Mean: 0.51\n",
        "Breeding...\n",
        "Running generation 67 ...\n",
        "ATTACKER: Best: 0.57"
       ]
      },
      {
       "output_type": "stream",
       "stream": "stdout",
       "text": [
        " Mean: 0.48\n",
        "DEFENDER: Best: 0.57 Mean: 0.51\n",
        "Breeding...\n",
        "Running generation 68 ...\n",
        "ATTACKER: Best: 0.57"
       ]
      },
      {
       "output_type": "stream",
       "stream": "stdout",
       "text": [
        " Mean: 0.49\n",
        "DEFENDER: Best: 0.59 Mean: 0.51\n",
        "Breeding...\n",
        "Running generation 69 ...\n",
        "ATTACKER: Best: 0.60"
       ]
      },
      {
       "output_type": "stream",
       "stream": "stdout",
       "text": [
        " Mean: 0.49\n",
        "DEFENDER: Best: 0.58 Mean: 0.51\n",
        "Breeding...\n",
        "Running generation 70 ...\n",
        "ATTACKER: Best: 0.59"
       ]
      },
      {
       "output_type": "stream",
       "stream": "stdout",
       "text": [
        " Mean: 0.49\n",
        "DEFENDER: Best: 0.59 Mean: 0.51\n",
        "Breeding...\n",
        "Running generation 71 ...\n",
        "ATTACKER: Best: 0.65"
       ]
      },
      {
       "output_type": "stream",
       "stream": "stdout",
       "text": [
        " Mean: 0.48\n",
        "DEFENDER: Best: 0.58 Mean: 0.50\n",
        "Breeding...\n",
        "Running generation 72 ...\n",
        "ATTACKER: Best: 0.62"
       ]
      },
      {
       "output_type": "stream",
       "stream": "stdout",
       "text": [
        " Mean: 0.49\n",
        "DEFENDER: Best: 0.58 Mean: 0.50\n",
        "Breeding...\n",
        "Running generation 73 ...\n",
        "ATTACKER: Best: 0.54"
       ]
      },
      {
       "output_type": "stream",
       "stream": "stdout",
       "text": [
        " Mean: 0.48\n",
        "DEFENDER: Best: 0.56 Mean: 0.51\n",
        "Breeding...\n",
        "Running generation 74 ...\n",
        "ATTACKER: Best: 0.58"
       ]
      },
      {
       "output_type": "stream",
       "stream": "stdout",
       "text": [
        " Mean: 0.49\n",
        "DEFENDER: Best: 0.57 Mean: 0.51\n",
        "Breeding...\n",
        "Running generation 75 ...\n",
        "ATTACKER: Best: 0.56"
       ]
      },
      {
       "output_type": "stream",
       "stream": "stdout",
       "text": [
        " Mean: 0.49\n",
        "DEFENDER: Best: 0.58 Mean: 0.51\n",
        "Breeding...\n",
        "Running generation 76 ...\n",
        "ATTACKER: Best: 0.73"
       ]
      },
      {
       "output_type": "stream",
       "stream": "stdout",
       "text": [
        " Mean: 0.49\n",
        "DEFENDER: Best: 0.59 Mean: 0.50\n",
        "Breeding...\n",
        "Running generation 77 ...\n",
        "ATTACKER: Best: 0.66"
       ]
      },
      {
       "output_type": "stream",
       "stream": "stdout",
       "text": [
        " Mean: 0.50\n",
        "DEFENDER: Best: 0.57 Mean: 0.51\n",
        "Breeding...\n",
        "Running generation 78 ...\n",
        "ATTACKER: Best: 0.61"
       ]
      },
      {
       "output_type": "stream",
       "stream": "stdout",
       "text": [
        " Mean: 0.48\n",
        "DEFENDER: Best: 0.57 Mean: 0.51\n",
        "Breeding...\n",
        "Running generation 79 ...\n",
        "ATTACKER: Best: 0.64"
       ]
      },
      {
       "output_type": "stream",
       "stream": "stdout",
       "text": [
        " Mean: 0.49\n",
        "DEFENDER: Best: 0.58 Mean: 0.51\n",
        "Breeding...\n",
        "Running generation 80 ...\n",
        "ATTACKER: Best: 0.63"
       ]
      },
      {
       "output_type": "stream",
       "stream": "stdout",
       "text": [
        " Mean: 0.49\n",
        "DEFENDER: Best: 0.59 Mean: 0.51\n",
        "Breeding...\n",
        "Running generation 81 ...\n",
        "ATTACKER: Best: 0.75"
       ]
      },
      {
       "output_type": "stream",
       "stream": "stdout",
       "text": [
        " Mean: 0.49\n",
        "DEFENDER: Best: 0.58 Mean: 0.51\n",
        "Breeding...\n",
        "Running generation 82 ...\n",
        "ATTACKER: Best: 0.56"
       ]
      },
      {
       "output_type": "stream",
       "stream": "stdout",
       "text": [
        " Mean: 0.48\n",
        "DEFENDER: Best: 0.60 Mean: 0.52\n",
        "Breeding...\n",
        "Running generation 83 ...\n",
        "ATTACKER: Best: 0.54"
       ]
      },
      {
       "output_type": "stream",
       "stream": "stdout",
       "text": [
        " Mean: 0.48\n",
        "DEFENDER: Best: 0.62 Mean: 0.52\n",
        "Breeding...\n",
        "Running generation 84 ...\n",
        "ATTACKER: Best: 0.57"
       ]
      },
      {
       "output_type": "stream",
       "stream": "stdout",
       "text": [
        " Mean: 0.49\n",
        "DEFENDER: Best: 0.59 Mean: 0.51\n",
        "Breeding...\n",
        "Running generation 85 ...\n",
        "ATTACKER: Best: 0.63"
       ]
      },
      {
       "output_type": "stream",
       "stream": "stdout",
       "text": [
        " Mean: 0.49\n",
        "DEFENDER: Best: 0.60 Mean: 0.51\n",
        "Breeding...\n",
        "Running generation 86 ...\n",
        "ATTACKER: Best: 0.53"
       ]
      },
      {
       "output_type": "stream",
       "stream": "stdout",
       "text": [
        " Mean: 0.49\n",
        "DEFENDER: Best: 0.57 Mean: 0.51\n",
        "Breeding...\n",
        "Running generation 87 ...\n",
        "ATTACKER: Best: 0.60"
       ]
      },
      {
       "output_type": "stream",
       "stream": "stdout",
       "text": [
        " Mean: 0.49\n",
        "DEFENDER: Best: 0.58 Mean: 0.51\n",
        "Breeding...\n",
        "Running generation 88 ...\n",
        "ATTACKER: Best: 0.67"
       ]
      },
      {
       "output_type": "stream",
       "stream": "stdout",
       "text": [
        " Mean: 0.50\n",
        "DEFENDER: Best: 0.59 Mean: 0.50\n",
        "Breeding...\n",
        "Running generation 89 ...\n",
        "ATTACKER: Best: 0.76"
       ]
      },
      {
       "output_type": "stream",
       "stream": "stdout",
       "text": [
        " Mean: 0.51\n",
        "DEFENDER: Best: 0.60 Mean: 0.51\n",
        "Breeding...\n",
        "Running generation 90 ...\n",
        "ATTACKER: Best: 0.59"
       ]
      },
      {
       "output_type": "stream",
       "stream": "stdout",
       "text": [
        " Mean: 0.49\n",
        "DEFENDER: Best: 0.60 Mean: 0.51\n",
        "Breeding...\n",
        "Running generation 91 ...\n",
        "ATTACKER: Best: 0.63"
       ]
      },
      {
       "output_type": "stream",
       "stream": "stdout",
       "text": [
        " Mean: 0.48\n",
        "DEFENDER: Best: 0.59 Mean: 0.51\n",
        "Breeding...\n",
        "Running generation 92 ...\n",
        "ATTACKER: Best: 0.72"
       ]
      },
      {
       "output_type": "stream",
       "stream": "stdout",
       "text": [
        " Mean: 0.49\n",
        "DEFENDER: Best: 0.58 Mean: 0.51\n",
        "Breeding...\n",
        "Running generation 93 ...\n",
        "ATTACKER: Best: 0.53"
       ]
      },
      {
       "output_type": "stream",
       "stream": "stdout",
       "text": [
        " Mean: 0.49\n",
        "DEFENDER: Best: 0.57 Mean: 0.51\n",
        "Breeding...\n",
        "Running generation 94 ...\n",
        "ATTACKER: Best: 0.61"
       ]
      },
      {
       "output_type": "stream",
       "stream": "stdout",
       "text": [
        " Mean: 0.50\n",
        "DEFENDER: Best: 0.58 Mean: 0.51\n",
        "Breeding...\n",
        "Running generation 95 ...\n",
        "ATTACKER: Best: 0.56"
       ]
      },
      {
       "output_type": "stream",
       "stream": "stdout",
       "text": [
        " Mean: 0.49\n",
        "DEFENDER: Best: 0.57 Mean: 0.51\n",
        "Breeding...\n",
        "Running generation 96 ...\n",
        "ATTACKER: Best: 0.58"
       ]
      },
      {
       "output_type": "stream",
       "stream": "stdout",
       "text": [
        " Mean: 0.50\n",
        "DEFENDER: Best: 0.57 Mean: 0.50\n",
        "Breeding...\n",
        "Running generation 97 ...\n",
        "ATTACKER: Best: 0.59"
       ]
      },
      {
       "output_type": "stream",
       "stream": "stdout",
       "text": [
        " Mean: 0.49\n",
        "DEFENDER: Best: 0.58 Mean: 0.51\n",
        "Breeding...\n",
        "Running generation 98 ...\n",
        "ATTACKER: Best: 0.67"
       ]
      },
      {
       "output_type": "stream",
       "stream": "stdout",
       "text": [
        " Mean: 0.50\n",
        "DEFENDER: Best: 0.57 Mean: 0.51\n",
        "Breeding...\n",
        "Running generation 99 ...\n",
        "ATTACKER: Best: 0.59"
       ]
      },
      {
       "output_type": "stream",
       "stream": "stdout",
       "text": [
        " Mean: 0.49\n",
        "DEFENDER: Best: 0.58 Mean: 0.50\n",
        "Breeding...\n",
        "Done!\n"
       ]
      }
     ],
     "prompt_number": 8
    }
   ],
   "metadata": {}
  }
 ]
}