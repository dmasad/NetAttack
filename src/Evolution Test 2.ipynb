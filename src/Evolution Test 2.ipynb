{
 "metadata": {
  "name": "Evolution Test 2"
 },
 "nbformat": 3,
 "nbformat_minor": 0,
 "worksheets": [
  {
   "cells": [
    {
     "cell_type": "markdown",
     "metadata": {},
     "source": [
      "# Testing the Evolution Manager\n",
      "\n",
      "Now a more serious test."
     ]
    },
    {
     "cell_type": "code",
     "collapsed": false,
     "input": [
      "import networkx as nx\n",
      "import matplotlib.pyplot as plt\n",
      "\n",
      "import numpy as np\n",
      "from scipy.interpolate import interp1d\n",
      "\n",
      "from DefenderAgent import Defender\n",
      "from AttackerAgent import AttackerAgent\n",
      "\n",
      "from EvolutionManager import EvolutionManager"
     ],
     "language": "python",
     "metadata": {},
     "outputs": [],
     "prompt_number": 1
    },
    {
     "cell_type": "code",
     "collapsed": false,
     "input": [
      "\n",
      "def effective_diameter(graph, q=0.9):\n",
      "    '''\n",
      "    Compute the effective diameter for the target percentile q\n",
      "    Better than diameter for dealing with long tails and disconnected graphs.\n",
      "\n",
      "    via Leskovec et al.\n",
      "    '''\n",
      "\n",
      "    # Build a distance matrix:\n",
      "    nodes = graph.nodes()\n",
      "    dist = nx.shortest_path_length(graph)\n",
      "    distances = []\n",
      "    for node1 in nodes:\n",
      "        row = []\n",
      "        for node2 in nodes:\n",
      "            if node1 == node2:\n",
      "                row.append(np.inf)\n",
      "            elif node2 in dist[node1]:\n",
      "                row.append(dist[node1][node2])\n",
      "            else:\n",
      "                row.append(np.inf)\n",
      "        distances.append(row)\n",
      "\n",
      "    distances = np.array(distances)\n",
      "\n",
      "    g_d = [0] # g(d) in Leskovec et al.\n",
      "    d = 1\n",
      "\n",
      "    distances = distances[distances != np.inf]\n",
      "    total_dyads = distances.size\n",
      "\n",
      "    while g_d[-1] < q:\n",
      "        path_counts = len(distances[distances<=d])\n",
      "        path_frac = path_counts/total_dyads\n",
      "        g_d.append(path_frac)\n",
      "        d += 1\n",
      "\n",
      "\n",
      "    # Interpolate\n",
      "    d_range = range(d)\n",
      "    interpolation = interp1d(g_d, d_range, kind='linear')\n",
      "    eff_d = interpolation(q)\n",
      "    return float(eff_d)/len(nodes)\n"
     ],
     "language": "python",
     "metadata": {},
     "outputs": [],
     "prompt_number": 2
    },
    {
     "cell_type": "code",
     "collapsed": false,
     "input": [
      "evolution_manager = EvolutionManager(AttackerAgent, Defender, 20, 45, \n",
      "                      fitness=effective_diameter, pop_size=100, generation_count=10, \n",
      "                      offspring=2, mutation_rate=0.05)\n",
      "                                     "
     ],
     "language": "python",
     "metadata": {},
     "outputs": [],
     "prompt_number": 4
    },
    {
     "cell_type": "code",
     "collapsed": false,
     "input": [
      "for i in range(20):\n",
      "    print \"Running generation\", evolution_manager.current_generation, \"...\"\n",
      "    evolution_manager.run_generation()\n",
      "    # Max fitnesses\n",
      "    print \"Attacker:\", max(evolution_manager.current_fitness['attackers'].values())\n",
      "    print \"Defender:\", max(evolution_manager.current_fitness['defenders'].values())\n",
      "    print \"Breeding...\"\n",
      "    evolution_manager.breed_next_generation()\n",
      "\n",
      "print \"Done!\""
     ],
     "language": "python",
     "metadata": {},
     "outputs": [
      {
       "output_type": "stream",
       "stream": "stdout",
       "text": [
        "Running generation 0 ...\n",
        "Attacker:"
       ]
      },
      {
       "output_type": "stream",
       "stream": "stdout",
       "text": [
        " 0.82189467477\n",
        "Defender: 0.538916666667\n",
        "Breeding...\n",
        "Running generation 1 ...\n",
        "Attacker:"
       ]
      },
      {
       "output_type": "stream",
       "stream": "stdout",
       "text": [
        " 0.828964375902\n",
        "Defender: 0.538916666667\n",
        "Breeding...\n",
        "Running generation 2 ...\n",
        "Attacker:"
       ]
      },
      {
       "output_type": "stream",
       "stream": "stdout",
       "text": [
        " 0.829197510823\n",
        "Defender: 0.54725\n",
        "Breeding...\n",
        "Running generation 3 ...\n",
        "Attacker:"
       ]
      },
      {
       "output_type": "stream",
       "stream": "stdout",
       "text": [
        " 0.845286616162\n",
        "Defender: 0.551416666667\n",
        "Breeding...\n",
        "Running generation 4 ...\n",
        "Attacker:"
       ]
      },
      {
       "output_type": "stream",
       "stream": "stdout",
       "text": [
        " 0.871003066378\n",
        "Defender: 0.57225\n",
        "Breeding...\n",
        "Running generation 5 ...\n",
        "Attacker:"
       ]
      },
      {
       "output_type": "stream",
       "stream": "stdout",
       "text": [
        " 0.792492965368\n",
        "Defender: 0.52225\n",
        "Breeding...\n",
        "Running generation 6 ...\n",
        "Attacker:"
       ]
      },
      {
       "output_type": "stream",
       "stream": "stdout",
       "text": [
        " 0.808339375902\n",
        "Defender: 0.52225\n",
        "Breeding...\n",
        "Running generation 7 ...\n",
        "Attacker:"
       ]
      },
      {
       "output_type": "stream",
       "stream": "stdout",
       "text": [
        " 0.825089452214\n",
        "Defender: 0.52225\n",
        "Breeding...\n",
        "Running generation 8 ...\n",
        "Attacker:"
       ]
      },
      {
       "output_type": "stream",
       "stream": "stdout",
       "text": [
        " 0.823408820346\n",
        "Defender: 0.533202380952\n",
        "Breeding...\n",
        "Running generation 9 ...\n",
        "Attacker:"
       ]
      },
      {
       "output_type": "stream",
       "stream": "stdout",
       "text": [
        " 0.903688401876\n",
        "Defender: 0.52225\n",
        "Breeding...\n",
        "Running generation 10 ...\n",
        "Attacker:"
       ]
      },
      {
       "output_type": "stream",
       "stream": "stdout",
       "text": [
        " 0.827931381119\n",
        "Defender: 0.530583333333\n",
        "Breeding...\n",
        "Running generation 11 ...\n",
        "Attacker:"
       ]
      },
      {
       "output_type": "stream",
       "stream": "stdout",
       "text": [
        " 0.861098304473\n",
        "Defender: 0.52225\n",
        "Breeding...\n",
        "Running generation 12 ...\n",
        "Attacker:"
       ]
      },
      {
       "output_type": "stream",
       "stream": "stdout",
       "text": [
        " 0.820425505051\n",
        "Defender: 0.530583333333\n",
        "Breeding...\n",
        "Running generation 13 ...\n",
        "Attacker:"
       ]
      },
      {
       "output_type": "stream",
       "stream": "stdout",
       "text": [
        " 0.797594079532\n",
        "Defender: 0.538916666667\n",
        "Breeding...\n",
        "Running generation 14 ...\n",
        "Attacker:"
       ]
      },
      {
       "output_type": "stream",
       "stream": "stdout",
       "text": [
        " 0.890503066378\n",
        "Defender: 0.52225\n",
        "Breeding...\n",
        "Running generation 15 ...\n",
        "Attacker:"
       ]
      },
      {
       "output_type": "stream",
       "stream": "stdout",
       "text": [
        " 0.946743957431\n",
        "Defender: 0.53225\n",
        "Breeding...\n",
        "Running generation 16 ...\n",
        "Attacker:"
       ]
      },
      {
       "output_type": "stream",
       "stream": "stdout",
       "text": [
        " 0.933956259019\n",
        "Defender: 0.538916666667\n",
        "Breeding...\n",
        "Running generation 17 ...\n",
        "Attacker:"
       ]
      },
      {
       "output_type": "stream",
       "stream": "stdout",
       "text": [
        " 0.883064393939\n",
        "Defender: 0.52605952381\n",
        "Breeding...\n",
        "Running generation 18 ...\n",
        "Attacker:"
       ]
      },
      {
       "output_type": "stream",
       "stream": "stdout",
       "text": [
        " 0.817231060606\n",
        "Defender: 0.520017857143\n",
        "Breeding...\n",
        "Running generation 19 ...\n",
        "Attacker:"
       ]
      },
      {
       "output_type": "stream",
       "stream": "stdout",
       "text": [
        " 0.867407828283\n",
        "Defender: 0.530583333333\n",
        "Breeding...\n",
        "Done!\n"
       ]
      }
     ],
     "prompt_number": 5
    },
    {
     "cell_type": "code",
     "collapsed": false,
     "input": [],
     "language": "python",
     "metadata": {},
     "outputs": []
    }
   ],
   "metadata": {}
  }
 ]
}