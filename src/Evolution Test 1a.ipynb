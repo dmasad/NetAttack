{
 "metadata": {
  "name": "Evolution Test 1a"
 },
 "nbformat": 3,
 "nbformat_minor": 0,
 "worksheets": [
  {
   "cells": [
    {
     "cell_type": "markdown",
     "metadata": {},
     "source": [
      "# Testing the Evolution Manager\n",
      "\n",
      "What we do instead of unit testing.\n",
      "\n",
      "Create an Evolution Manager, and test out all the internal functionality one method at a time.\n",
      "\n",
      "*Testing out the instant_rewire flag"
     ]
    },
    {
     "cell_type": "code",
     "collapsed": false,
     "input": [
      "import networkx as nx\n",
      "import matplotlib.pyplot as plt\n",
      "\n",
      "import numpy as np\n",
      "from scipy.interpolate import interp1d\n",
      "\n",
      "from DefenderAgent import Defender\n",
      "from AttackerAgent import AttackerAgent\n",
      "\n",
      "from EvolutionManager import EvolutionManager"
     ],
     "language": "python",
     "metadata": {},
     "outputs": [],
     "prompt_number": 1
    },
    {
     "cell_type": "code",
     "collapsed": false,
     "input": [
      "\n",
      "def effective_diameter(graph, q=0.9):\n",
      "    '''\n",
      "    Compute the effective diameter for the target percentile q\n",
      "    Better than diameter for dealing with long tails and disconnected graphs.\n",
      "\n",
      "    via Leskovec et al.\n",
      "    '''\n",
      "\n",
      "    # Build a distance matrix:\n",
      "    nodes = graph.nodes()\n",
      "    dist = nx.shortest_path_length(graph)\n",
      "    distances = []\n",
      "    for node1 in nodes:\n",
      "        row = []\n",
      "        for node2 in nodes:\n",
      "            if node1 == node2:\n",
      "                row.append(np.inf)\n",
      "            elif node2 in dist[node1]:\n",
      "                row.append(dist[node1][node2])\n",
      "            else:\n",
      "                row.append(np.inf)\n",
      "        distances.append(row)\n",
      "\n",
      "    distances = np.array(distances)\n",
      "\n",
      "    g_d = [0] # g(d) in Leskovec et al.\n",
      "    d = 1\n",
      "\n",
      "    distances = distances[distances != np.inf]\n",
      "    total_dyads = distances.size\n",
      "\n",
      "    while g_d[-1] < q:\n",
      "        path_counts = len(distances[distances<=d])\n",
      "        path_frac = path_counts/total_dyads\n",
      "        g_d.append(path_frac)\n",
      "        d += 1\n",
      "\n",
      "\n",
      "    # Interpolate\n",
      "    d_range = range(d)\n",
      "    interpolation = interp1d(g_d, d_range, kind='linear')\n",
      "    eff_d = interpolation(q)\n",
      "    return float(eff_d)/len(nodes)\n"
     ],
     "language": "python",
     "metadata": {},
     "outputs": [],
     "prompt_number": 2
    },
    {
     "cell_type": "code",
     "collapsed": false,
     "input": [
      "evolution_manager = EvolutionManager(AttackerAgent, Defender, 20, 45, \n",
      "                      fitness=effective_diameter, pop_size=10, generation_count=3, \n",
      "                      offspring=2, mutation_rate=0.05, instant_rewire=True)\n",
      "                                     "
     ],
     "language": "python",
     "metadata": {},
     "outputs": [],
     "prompt_number": 6
    },
    {
     "cell_type": "code",
     "collapsed": false,
     "input": [
      "evolution_manager.run_generation()"
     ],
     "language": "python",
     "metadata": {},
     "outputs": [],
     "prompt_number": 8
    },
    {
     "cell_type": "code",
     "collapsed": false,
     "input": [
      "evolution_manager.current_fitness"
     ],
     "language": "python",
     "metadata": {},
     "outputs": [
      {
       "output_type": "pyout",
       "prompt_number": 5,
       "text": [
        "{'attackers': {(20.204588253417,\n",
        "   16.879495119866263,\n",
        "   64.95432387952616,\n",
        "   40.255799751908185,\n",
        "   71.86794829358726,\n",
        "   87.23106729959662,\n",
        "   7.6868599570427465): 0.2222727272727273,\n",
        "  (27.415425935780423,\n",
        "   12.96510707992029,\n",
        "   16.01893691262013,\n",
        "   76.27694070715171,\n",
        "   11.861796745825103,\n",
        "   45.29192439096692,\n",
        "   31.984953097985347): 0.21772727272727274,\n",
        "  (32.845609093300055,\n",
        "   75.70976886298057,\n",
        "   52.77577596727798,\n",
        "   96.06934007695362,\n",
        "   40.76343844205205,\n",
        "   24.60209501677483,\n",
        "   1.253957281846385): 0.2222727272727273,\n",
        "  (35.75269094890371,\n",
        "   96.03111173164459,\n",
        "   63.10677076147755,\n",
        "   72.8801554318811,\n",
        "   0.9100244531560886,\n",
        "   25.449792790833946,\n",
        "   19.829468401919005): 0.21318181818181825,\n",
        "  (41.47575383335966,\n",
        "   98.91632588639823,\n",
        "   8.380645012629628,\n",
        "   61.33931485196241,\n",
        "   54.0265601333789,\n",
        "   94.11890278768102,\n",
        "   91.48202431940548): 0.2313636363636364,\n",
        "  (43.93994144690188,\n",
        "   91.91456410963266,\n",
        "   92.72681474920752,\n",
        "   70.91988138268758,\n",
        "   9.281963694283391,\n",
        "   13.88523554334602,\n",
        "   36.24744870929847): 0.2404545454545455,\n",
        "  (48.95532255867874,\n",
        "   30.781397392085186,\n",
        "   15.271527474611545,\n",
        "   1.5574340799187958,\n",
        "   25.77367449236574,\n",
        "   42.3059294191105,\n",
        "   31.460451602555228): 0.19500000000000003,\n",
        "  (54.5323443039272,\n",
        "   39.467737559165286,\n",
        "   36.11048748831546,\n",
        "   12.531139664029567,\n",
        "   43.61023083891059,\n",
        "   33.430364004520484,\n",
        "   70.73017442403587): 0.19954545454545458,\n",
        "  (66.95229957103811,\n",
        "   92.74976399083612,\n",
        "   98.8305938985795,\n",
        "   26.63840117095324,\n",
        "   27.170381289900604,\n",
        "   70.08869229928747,\n",
        "   61.68435704378077): 0.20409090909090913,\n",
        "  (82.91842607465479,\n",
        "   5.71381046477425,\n",
        "   37.19860578387808,\n",
        "   89.18653398985802,\n",
        "   34.55753430575733,\n",
        "   55.57764801785544,\n",
        "   57.41081477393417): 0.22681818181818184},\n",
        " 'defenders': {(15.19646760069362,\n",
        "   70.24422031622156,\n",
        "   33.49726743538557,\n",
        "   98.05540371766178,\n",
        "   76.49538997501561,\n",
        "   34.38235816674542,\n",
        "   55.33858282940842,\n",
        "   45.64303393312782,\n",
        "   18.947161738361384,\n",
        "   16.477424770344186): 0.7686363636363636,\n",
        "  (17.22337408423241,\n",
        "   3.6984257880039006,\n",
        "   43.13473563453288,\n",
        "   8.543943590504288,\n",
        "   86.8299018503556,\n",
        "   62.53311596536467,\n",
        "   98.4070056194154,\n",
        "   13.383780687021273,\n",
        "   24.095656608380757,\n",
        "   54.97094439057085): 0.7777272727272727,\n",
        "  (23.49923826423025,\n",
        "   97.29885995337168,\n",
        "   58.99719388105381,\n",
        "   62.08761276019803,\n",
        "   63.916722931852576,\n",
        "   8.063353670185712,\n",
        "   64.64484225114329,\n",
        "   48.40407431766519,\n",
        "   37.66096721389869,\n",
        "   50.88097190734049): 0.7959090909090909,\n",
        "  (27.724457888339295,\n",
        "   26.2216744957253,\n",
        "   79.00805649386758,\n",
        "   78.41612760291285,\n",
        "   35.76386114852148,\n",
        "   0.046863214037684564,\n",
        "   12.734208553906623,\n",
        "   84.06358135745677,\n",
        "   37.995593092803205,\n",
        "   73.51908381649956): 0.8049999999999999,\n",
        "  (36.33704571391674,\n",
        "   9.727767914558939,\n",
        "   92.90877212076974,\n",
        "   32.08899223143187,\n",
        "   65.51854489993873,\n",
        "   26.983723932086512,\n",
        "   66.55275456271636,\n",
        "   49.89255474264191,\n",
        "   75.8696776477188,\n",
        "   53.36954721839502): 0.7731818181818182,\n",
        "  (44.88914257403026,\n",
        "   4.3728350304628405,\n",
        "   32.963468670470164,\n",
        "   60.6244568295916,\n",
        "   6.077095017466682,\n",
        "   51.3491374626053,\n",
        "   10.20804519472801,\n",
        "   63.04471349686464,\n",
        "   0.18784555152568938,\n",
        "   81.0927648574316): 0.7868181818181817,\n",
        "  (55.91430747727139,\n",
        "   15.47610710931837,\n",
        "   16.643121296568996,\n",
        "   29.289073071046268,\n",
        "   59.98984697602109,\n",
        "   25.138324289433644,\n",
        "   95.51144237432503,\n",
        "   5.569889795365047,\n",
        "   53.43731641306887,\n",
        "   19.718890605220174): 0.7595454545454545,\n",
        "  (78.10979921681471,\n",
        "   14.889545952769435,\n",
        "   90.10293300292071,\n",
        "   5.735275744219526,\n",
        "   5.516171234393596,\n",
        "   57.361032774670385,\n",
        "   2.332939205581863,\n",
        "   40.43977696981573,\n",
        "   93.96855612009249,\n",
        "   99.14146178597457): 0.8004545454545454,\n",
        "  (83.61953418964131,\n",
        "   36.5009099061265,\n",
        "   17.19896790311324,\n",
        "   23.119421065947865,\n",
        "   22.003459219863586,\n",
        "   39.06689973339355,\n",
        "   47.38577032395126,\n",
        "   44.17759954221343,\n",
        "   59.16094496576645,\n",
        "   7.100560488850737): 0.7822727272727272,\n",
        "  (84.93512866836352,\n",
        "   71.12199781188752,\n",
        "   57.54163832534449,\n",
        "   37.12502549793366,\n",
        "   49.41373377631736,\n",
        "   88.1082356023091,\n",
        "   23.523304040048775,\n",
        "   46.7530445005657,\n",
        "   74.98211243228586,\n",
        "   14.69017000891112): 0.7777272727272727}}"
       ]
      }
     ],
     "prompt_number": 5
    },
    {
     "cell_type": "code",
     "collapsed": false,
     "input": [
      "# Max fitnesses\n",
      "print \"Attacker:\", max(evolution_manager.current_fitness['attackers'].values())\n",
      "print \"Defender:\", max(evolution_manager.current_fitness['defenders'].values())"
     ],
     "language": "python",
     "metadata": {},
     "outputs": [
      {
       "output_type": "stream",
       "stream": "stdout",
       "text": [
        "Attacker: 0.216942176596\n",
        "Defender: 0.82022603112\n"
       ]
      }
     ],
     "prompt_number": 7
    },
    {
     "cell_type": "code",
     "collapsed": false,
     "input": [
      "evolution_manager.breed_next_generation()"
     ],
     "language": "python",
     "metadata": {},
     "outputs": [],
     "prompt_number": 6
    },
    {
     "cell_type": "code",
     "collapsed": false,
     "input": [
      "for i in range(10):\n",
      "    print \"Running generation\", evolution_manager.current_generation, \"...\"\n",
      "    evolution_manager.run_generation()\n",
      "    # Max fitnesses\n",
      "    print \"Attacker:\", max(evolution_manager.current_fitness['attackers'].values())\n",
      "    print \"Defender:\", max(evolution_manager.current_fitness['defenders'].values())\n",
      "    print \"Breeding...\"\n",
      "    evolution_manager.breed_next_generation()\n",
      "\n",
      "print \"Done!\""
     ],
     "language": "python",
     "metadata": {},
     "outputs": [
      {
       "output_type": "stream",
       "stream": "stdout",
       "text": [
        "Running generation 1 ...\n",
        "Attacker:"
       ]
      },
      {
       "output_type": "stream",
       "stream": "stdout",
       "text": [
        " 0.823326402764\n",
        "Defender: 0.484958333333\n",
        "Breeding...\n",
        "Running generation 2 ...\n",
        "Attacker:"
       ]
      },
      {
       "output_type": "stream",
       "stream": "stdout",
       "text": [
        " 0.803780844156\n",
        "Defender: 0.462875\n",
        "Breeding...\n",
        "Running generation 3 ...\n",
        "Attacker:"
       ]
      },
      {
       "output_type": "stream",
       "stream": "stdout",
       "text": [
        " 0.730384018759\n",
        "Defender: 0.426535714286\n",
        "Breeding...\n",
        "Running generation 4 ...\n",
        "Attacker:"
       ]
      },
      {
       "output_type": "stream",
       "stream": "stdout",
       "text": [
        " 0.841018939394\n",
        "Defender: 0.52225\n",
        "Breeding...\n",
        "Running generation 5 ...\n",
        "Attacker:"
       ]
      },
      {
       "output_type": "stream",
       "stream": "stdout",
       "text": [
        " 0.753935606061\n",
        "Defender: 0.480583333333\n",
        "Breeding...\n",
        "Running generation 6 ...\n",
        "Attacker:"
       ]
      },
      {
       "output_type": "stream",
       "stream": "stdout",
       "text": [
        " 0.815168817294\n",
        "Defender: 0.469392857143\n",
        "Breeding...\n",
        "Running generation 7 ...\n",
        "Attacker:"
       ]
      },
      {
       "output_type": "stream",
       "stream": "stdout",
       "text": [
        " 0.825037608225\n",
        "Defender: 0.373351190476\n",
        "Breeding...\n",
        "Running generation 8 ...\n",
        "Attacker:"
       ]
      },
      {
       "output_type": "stream",
       "stream": "stdout",
       "text": [
        " 0.715145923521\n",
        "Defender: 0.46105952381\n",
        "Breeding...\n",
        "Running generation 9 ...\n",
        "Attacker:"
       ]
      },
      {
       "output_type": "stream",
       "stream": "stdout",
       "text": [
        " 0.767274815462\n",
        "Defender: 0.48725\n",
        "Breeding...\n",
        "Running generation 10 ...\n",
        "Attacker:"
       ]
      },
      {
       "output_type": "stream",
       "stream": "stdout",
       "text": [
        " 0.777575487013\n",
        "Defender: 0.443351190476\n",
        "Breeding...\n",
        "Done!\n"
       ]
      }
     ],
     "prompt_number": 8
    },
    {
     "cell_type": "code",
     "collapsed": false,
     "input": [
      "# Displaying genes:\n",
      "print \"Attackers - Genome 0\"\n",
      "print \"--------------------\"\n",
      "for generation in evolution_manager.generations:\n",
      "    genome = evolution_manager.generations[generation]['attackers'][0]\n",
      "    pretty_genome = [\"%.2f\" % g for g in genome]\n",
      "    print pretty_genome\n",
      "\n",
      "\n",
      "print \"Defenders - Genome 0\"\n",
      "print \"--------------------\"\n",
      "for generation in evolution_manager.generations:\n",
      "    genome = evolution_manager.generations[generation]['defenders'][0]\n",
      "    pretty_genome = [\"%.2f\" % g for g in genome]\n",
      "    print pretty_genome"
     ],
     "language": "python",
     "metadata": {},
     "outputs": [
      {
       "output_type": "stream",
       "stream": "stdout",
       "text": [
        "Attackers - Genome 0\n",
        "--------------------\n",
        "['16.79', '40.93', '69.87', '17.38', '93.25', '87.11', '21.41']\n",
        "['82.27', '22.38', '74.52', '17.00', '27.78', '15.68', '5.92']\n",
        "['39.92', '34.16', '76.07', '55.83', '2.38', '44.93', '0.35']\n",
        "['24.06', '35.41', '71.29', '55.83', '2.38', '44.93', '0.35']\n",
        "['24.06', '44.85', '31.39', '71.12', '46.45', '84.06', '9.88']\n",
        "['24.06', '35.41', '71.29', '71.12', '46.45', '91.79', '9.88']\n",
        "['30.65', '34.16', '29.92', '71.12', '41.11', '84.06', '9.88']\n",
        "['39.92', '0.98', '71.29', '71.12', '46.45', '86.73', '9.88']\n",
        "['32.89', '0.98', '29.92', '71.12', '41.11', '84.06', '9.88']\n",
        "['32.89', '0.98', '31.39', '71.12', '41.11', '84.06', '9.88']\n",
        "['32.89', '0.00', '31.39', '71.12', '41.11', '84.06', '9.88']\n",
        "['32.51', '0.98', '31.39', '71.12', '41.11', '84.06', '9.88']\n",
        "Defenders - Genome 0\n",
        "--------------------\n",
        "['63.78', '7.85', '88.32', '78.52', '56.09', '47.62', '40.95', '82.27', '16.95', '52.87']\n",
        "['16.32', '37.30', '15.26', '45.37', '85.69', '53.52', '13.79', '43.31', '81.04', '36.18']\n",
        "['18.11', '28.73', '46.58', '9.88', '81.67', '72.84', '67.56', '66.16', '51.08', '33.99']\n",
        "['74.69', '48.56', '3.97', '55.30', '16.43', '17.16', '93.87', '12.59', '18.83', '47.07']\n",
        "['74.69', '48.56', '3.97', '55.30', '16.43', '17.16', '93.87', '12.59', '18.83', '47.07']\n",
        "['82.19', '10.53', '51.69', '9.88', '81.67', '72.84', '93.87', '66.16', '47.12', '33.99']\n",
        "['82.19', '10.53', '53.23', '55.30', '16.43', '17.16', '93.87', '66.16', '47.12', '33.99']\n",
        "['82.19', '10.53', '51.69', '55.30', '16.43', '17.16', '93.87', '66.16', '47.12', '33.99']\n",
        "['82.19', '10.53', '53.23', '55.30', '16.43', '17.16', '93.87', '66.16', '47.12', '36.52']\n",
        "['74.69', '10.56', '51.69', '63.40', '16.43', '17.16', '93.87', '66.16', '47.12', '36.52']\n",
        "['74.69', '10.56', '51.69', '63.40', '16.43', '17.16', '93.56', '66.16', '47.12', '36.52']\n",
        "['74.69', '9.86', '51.69', '63.40', '16.43', '20.88', '93.87', '66.16', '47.12', '39.71']\n"
       ]
      }
     ],
     "prompt_number": 9
    },
    {
     "cell_type": "code",
     "collapsed": false,
     "input": [
      "evolution_manager.run()"
     ],
     "language": "python",
     "metadata": {},
     "outputs": [],
     "prompt_number": 7
    },
    {
     "cell_type": "code",
     "collapsed": false,
     "input": [
      "evolution_manager.current_generation"
     ],
     "language": "python",
     "metadata": {},
     "outputs": [
      {
       "output_type": "pyout",
       "prompt_number": 12,
       "text": [
        "0"
       ]
      }
     ],
     "prompt_number": 12
    },
    {
     "cell_type": "code",
     "collapsed": false,
     "input": [
      "nx.degree?"
     ],
     "language": "python",
     "metadata": {},
     "outputs": [],
     "prompt_number": 5
    },
    {
     "cell_type": "code",
     "collapsed": false,
     "input": [],
     "language": "python",
     "metadata": {},
     "outputs": []
    }
   ],
   "metadata": {}
  }
 ]
}